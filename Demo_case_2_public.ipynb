{
  "nbformat": 4,
  "nbformat_minor": 0,
  "metadata": {
    "colab": {
      "provenance": [],
      "include_colab_link": true
    },
    "kernelspec": {
      "name": "python3",
      "display_name": "Python 3"
    },
    "language_info": {
      "name": "python"
    }
  },
  "cells": [
    {
      "cell_type": "markdown",
      "metadata": {
        "id": "view-in-github",
        "colab_type": "text"
      },
      "source": [
        "<a href=\"https://colab.research.google.com/github/fbelleau/kibio-bi/blob/main/Demo_case_2_public.ipynb\" target=\"_parent\"><img src=\"https://colab.research.google.com/assets/colab-badge.svg\" alt=\"Open In Colab\"/></a>"
      ]
    },
    {
      "cell_type": "markdown",
      "source": [
        "### Install Eland librairy compatible with actual Kibio.science version"
      ],
      "metadata": {
        "id": "KHxVU6jVBGtH"
      }
    },
    {
      "cell_type": "code",
      "execution_count": 1,
      "metadata": {
        "id": "tb87_JPVXHLJ",
        "colab": {
          "base_uri": "https://localhost:8080/"
        },
        "outputId": "58b2b84e-f177-4d30-d0d1-ed1fcfadf257"
      },
      "outputs": [
        {
          "output_type": "stream",
          "name": "stdout",
          "text": [
            "Looking in indexes: https://pypi.org/simple, https://us-python.pkg.dev/colab-wheels/public/simple/\n",
            "Collecting eland==7.14.0b1\n",
            "  Downloading eland-7.14.0b1-py3-none-any.whl (126 kB)\n",
            "\u001b[2K     \u001b[90m━━━━━━━━━━━━━━━━━━━━━━━━━━━━━━━━━━━━━━━\u001b[0m \u001b[32m126.9/126.9 KB\u001b[0m \u001b[31m8.3 MB/s\u001b[0m eta \u001b[36m0:00:00\u001b[0m\n",
            "\u001b[?25hCollecting pandas<1.4,>=1.2\n",
            "  Downloading pandas-1.3.5-cp39-cp39-manylinux_2_17_x86_64.manylinux2014_x86_64.whl (11.5 MB)\n",
            "\u001b[2K     \u001b[90m━━━━━━━━━━━━━━━━━━━━━━━━━━━━━━━━━━━━━━━━\u001b[0m \u001b[32m11.5/11.5 MB\u001b[0m \u001b[31m70.5 MB/s\u001b[0m eta \u001b[36m0:00:00\u001b[0m\n",
            "\u001b[?25hCollecting elasticsearch<8,>=7.11\n",
            "  Downloading elasticsearch-7.17.9-py2.py3-none-any.whl (385 kB)\n",
            "\u001b[2K     \u001b[90m━━━━━━━━━━━━━━━━━━━━━━━━━━━━━━━━━━━━━━\u001b[0m \u001b[32m386.0/386.0 KB\u001b[0m \u001b[31m25.0 MB/s\u001b[0m eta \u001b[36m0:00:00\u001b[0m\n",
            "\u001b[?25hRequirement already satisfied: numpy in /usr/local/lib/python3.9/dist-packages (from eland==7.14.0b1) (1.22.4)\n",
            "Requirement already satisfied: matplotlib in /usr/local/lib/python3.9/dist-packages (from eland==7.14.0b1) (3.7.1)\n",
            "Requirement already satisfied: urllib3<2,>=1.21.1 in /usr/local/lib/python3.9/dist-packages (from elasticsearch<8,>=7.11->eland==7.14.0b1) (1.26.15)\n",
            "Requirement already satisfied: certifi in /usr/local/lib/python3.9/dist-packages (from elasticsearch<8,>=7.11->eland==7.14.0b1) (2022.12.7)\n",
            "Requirement already satisfied: pytz>=2017.3 in /usr/local/lib/python3.9/dist-packages (from pandas<1.4,>=1.2->eland==7.14.0b1) (2022.7.1)\n",
            "Requirement already satisfied: python-dateutil>=2.7.3 in /usr/local/lib/python3.9/dist-packages (from pandas<1.4,>=1.2->eland==7.14.0b1) (2.8.2)\n",
            "Requirement already satisfied: importlib-resources>=3.2.0 in /usr/local/lib/python3.9/dist-packages (from matplotlib->eland==7.14.0b1) (5.12.0)\n",
            "Requirement already satisfied: contourpy>=1.0.1 in /usr/local/lib/python3.9/dist-packages (from matplotlib->eland==7.14.0b1) (1.0.7)\n",
            "Requirement already satisfied: kiwisolver>=1.0.1 in /usr/local/lib/python3.9/dist-packages (from matplotlib->eland==7.14.0b1) (1.4.4)\n",
            "Requirement already satisfied: pyparsing>=2.3.1 in /usr/local/lib/python3.9/dist-packages (from matplotlib->eland==7.14.0b1) (3.0.9)\n",
            "Requirement already satisfied: fonttools>=4.22.0 in /usr/local/lib/python3.9/dist-packages (from matplotlib->eland==7.14.0b1) (4.39.2)\n",
            "Requirement already satisfied: pillow>=6.2.0 in /usr/local/lib/python3.9/dist-packages (from matplotlib->eland==7.14.0b1) (8.4.0)\n",
            "Requirement already satisfied: cycler>=0.10 in /usr/local/lib/python3.9/dist-packages (from matplotlib->eland==7.14.0b1) (0.11.0)\n",
            "Requirement already satisfied: packaging>=20.0 in /usr/local/lib/python3.9/dist-packages (from matplotlib->eland==7.14.0b1) (23.0)\n",
            "Requirement already satisfied: zipp>=3.1.0 in /usr/local/lib/python3.9/dist-packages (from importlib-resources>=3.2.0->matplotlib->eland==7.14.0b1) (3.15.0)\n",
            "Requirement already satisfied: six>=1.5 in /usr/local/lib/python3.9/dist-packages (from python-dateutil>=2.7.3->pandas<1.4,>=1.2->eland==7.14.0b1) (1.16.0)\n",
            "Installing collected packages: elasticsearch, pandas, eland\n",
            "  Attempting uninstall: pandas\n",
            "    Found existing installation: pandas 1.4.4\n",
            "    Uninstalling pandas-1.4.4:\n",
            "      Successfully uninstalled pandas-1.4.4\n",
            "Successfully installed eland-7.14.0b1 elasticsearch-7.17.9 pandas-1.3.5\n"
          ]
        }
      ],
      "source": [
        "!pip install eland==7.14.0b1\n",
        "\n",
        "import eland as ed"
      ]
    },
    {
      "cell_type": "markdown",
      "source": [
        "## Install most recent version of Pandas (default on Collab is 1.3.5)"
      ],
      "metadata": {
        "id": "C47kR762_kk0"
      }
    },
    {
      "cell_type": "code",
      "source": [
        "\n",
        "\n",
        "import pandas as pd\n",
        "\n",
        "pd.__version__"
      ],
      "metadata": {
        "colab": {
          "base_uri": "https://localhost:8080/",
          "height": 35
        },
        "id": "EaHIVt2r_aTZ",
        "outputId": "6952f627-e5ac-42be-8ada-9df0b7d410da"
      },
      "execution_count": 2,
      "outputs": [
        {
          "output_type": "execute_result",
          "data": {
            "text/plain": [
              "'1.3.5'"
            ],
            "application/vnd.google.colaboratory.intrinsic+json": {
              "type": "string"
            }
          },
          "metadata": {},
          "execution_count": 2
        }
      ]
    },
    {
      "cell_type": "markdown",
      "source": [
        "## Import Elasticsearch's needed librairies"
      ],
      "metadata": {
        "id": "2f0r9fSjyeUW"
      }
    },
    {
      "cell_type": "code",
      "source": [
        "from elasticsearch import Elasticsearch, helpers\n",
        "import matplotlib.pyplot as plt"
      ],
      "metadata": {
        "id": "MXEhEb1Ax_6O"
      },
      "execution_count": 3,
      "outputs": []
    },
    {
      "cell_type": "markdown",
      "source": [
        "## Create connection to Kibio.science's Elastiseach REST endpoint"
      ],
      "metadata": {
        "id": "-h3gXVbYBPNI"
      }
    },
    {
      "cell_type": "code",
      "source": [
        "es = Elasticsearch(\"http://es.kibio.science:80\", verify_certs=False, ssl_show_warn=False)\n",
        "es"
      ],
      "metadata": {
        "colab": {
          "base_uri": "https://localhost:8080/"
        },
        "id": "YPaVALVu9WrR",
        "outputId": "fbb830d2-eb38-4531-cc6e-102abc222c65"
      },
      "execution_count": 4,
      "outputs": [
        {
          "output_type": "execute_result",
          "data": {
            "text/plain": [
              "<Elasticsearch([{'host': 'es.kibio.science', 'port': 80}])>"
            ]
          },
          "metadata": {},
          "execution_count": 4
        }
      ]
    },
    {
      "cell_type": "markdown",
      "source": [
        "## Dowload needed dataframes from Kibio.science using Elasticsearch's Eland librairy"
      ],
      "metadata": {
        "id": "BGK0We9s-yFL"
      }
    },
    {
      "cell_type": "code",
      "source": [
        "# download nodes\n",
        "\n",
        "disease = ed.eland_to_pandas(ed.DataFrame(es_client= es, es_index_pattern='hetionet_disease_201811'))\n",
        "print(\"disease\", disease.shape)\n",
        "gene = ed.eland_to_pandas(ed.DataFrame(es_client= es, es_index_pattern='hetionet_gene_201811'))\n",
        "print(\"gene\", gene.shape)\n",
        "compound = ed.eland_to_pandas(ed.DataFrame(es_client= es, es_index_pattern='hetionet_compound_201811'))\n",
        "print(\"compound\", compound.shape)\n",
        "biological_process = ed.eland_to_pandas(ed.DataFrame(es_client= es, es_index_pattern='hetionet_biological_process_201811'))\n",
        "print(\"biological_process\", biological_process.shape)"
      ],
      "metadata": {
        "id": "vHAhpjy99q27",
        "colab": {
          "base_uri": "https://localhost:8080/"
        },
        "outputId": "24e13971-ee27-4acb-a50a-ceedb8d7b6fc"
      },
      "execution_count": 20,
      "outputs": [
        {
          "output_type": "stream",
          "name": "stdout",
          "text": [
            "disease (137, 17)\n",
            "gene (20945, 17)\n",
            "compound (1552, 20)\n",
            "biological_process (11381, 11)\n"
          ]
        }
      ]
    },
    {
      "cell_type": "code",
      "source": [
        "# edges_gene_regulates\n",
        "\n",
        "gene_regulates = gene[['@id','regulates.@id']]\n",
        "gene_regulates_edges = gene_regulates.explode('regulates.@id')\n",
        "gene_regulates_edges.shape"
      ],
      "metadata": {
        "colab": {
          "base_uri": "https://localhost:8080/"
        },
        "id": "NJ7PwdIK4oYU",
        "outputId": "70933836-ffd8-4b13-bc78-c803fe4fc097"
      },
      "execution_count": 22,
      "outputs": [
        {
          "output_type": "execute_result",
          "data": {
            "text/plain": [
              "(281983, 2)"
            ]
          },
          "metadata": {},
          "execution_count": 22
        }
      ]
    },
    {
      "cell_type": "code",
      "source": [
        "# edges_disease_association\n",
        "\n",
        "disease_association = disease[['@id','associates.@id']]\n",
        "disease_association_edges = disease_association.explode('associates.@id')\n",
        "disease_association_edges.shape"
      ],
      "metadata": {
        "colab": {
          "base_uri": "https://localhost:8080/"
        },
        "id": "GMFnanzt6Tyi",
        "outputId": "81ac6fd8-85af-4397-af3e-0aa8029ad780"
      },
      "execution_count": 24,
      "outputs": [
        {
          "output_type": "execute_result",
          "data": {
            "text/plain": [
              "(12626, 2)"
            ]
          },
          "metadata": {},
          "execution_count": 24
        }
      ]
    },
    {
      "cell_type": "code",
      "source": [
        "# download edges\n",
        "\n",
        "edges_disease_associates = ed.eland_to_pandas(ed.DataFrame(es_client= es, es_index_pattern='hetionet_edges_disease_associates'))\n",
        "print(\"edges_disease_associates\", edges_disease_associates.shape)\n",
        "edges_gene_interacts = ed.eland_to_pandas(ed.DataFrame(es_client= es, es_index_pattern='hetionet_edges_gene_interacts'))\n",
        "print(\"edges_gene_interacts\", edges_gene_interacts.shape)\n",
        "edges_gene_participates = ed.eland_to_pandas(ed.DataFrame(es_client= es, es_index_pattern='hetionet_edges_gene_participates'))\n",
        "print(\"edges_gene_participates\", edges_gene_participates.shape)\n",
        "edges_gene_regulates = ed.eland_to_pandas(ed.DataFrame(es_client= es, es_index_pattern='hetionet_edges_gene_regulates'))\n",
        "print(\"edges_gene_regulates\", edges_gene_regulates.shape)\n",
        "edges_compound_binds = ed.eland_to_pandas(ed.DataFrame(es_client= es, es_index_pattern='hetionet_edges_compound_binds'))\n",
        "print(\"edges_compound_binds\", edges_compound_binds.shape)"
      ],
      "metadata": {
        "id": "AsqubIpdEfoq",
        "outputId": "c8d5d4b5-f492-492a-a31c-b573c3433063",
        "colab": {
          "base_uri": "https://localhost:8080/"
        }
      },
      "execution_count": 36,
      "outputs": [
        {
          "output_type": "stream",
          "name": "stdout",
          "text": [
            "edges_disease_associates (12626, 6)\n",
            "edges_gene_interacts (158583, 6)\n",
            "edges_gene_participates (819199, 6)\n",
            "edges_gene_regulates (281983, 6)\n",
            "edges_compound_binds (11734, 6)\n"
          ]
        }
      ]
    },
    {
      "cell_type": "markdown",
      "source": [
        "## Question 1"
      ],
      "metadata": {
        "id": "fIDP6r3P_MS1"
      }
    },
    {
      "cell_type": "code",
      "source": [
        "gene_regulates_gene = gene_regulates_edges[['@id', 'regulates.@id']].groupby(['@id'],as_index=False).agg({'regulates.@id': lambda x: x.tolist()})\n",
        "gene_regulates_gene.shape"
      ],
      "metadata": {
        "colab": {
          "base_uri": "https://localhost:8080/"
        },
        "id": "OEkWRbvl7mpH",
        "outputId": "d74cd30d-6a5a-4a4d-c1fa-d4fea91b0d57"
      },
      "execution_count": 33,
      "outputs": [
        {
          "output_type": "execute_result",
          "data": {
            "text/plain": [
              "(20945, 2)"
            ]
          },
          "metadata": {},
          "execution_count": 33
        }
      ]
    },
    {
      "cell_type": "code",
      "source": [
        "answer_question_1 = gene_regulates_gene[gene_regulates_gene['regulates.@id'].apply(len) > 15]\n",
        "\n",
        "answer_question_1.shape"
      ],
      "metadata": {
        "colab": {
          "base_uri": "https://localhost:8080/"
        },
        "id": "ySa13tJO7WOX",
        "outputId": "013a9916-fa89-461e-ea43-b9043abd4b3e"
      },
      "execution_count": 34,
      "outputs": [
        {
          "output_type": "execute_result",
          "data": {
            "text/plain": [
              "(3599, 2)"
            ]
          },
          "metadata": {},
          "execution_count": 34
        }
      ]
    },
    {
      "cell_type": "code",
      "source": [
        "answer_question_1 = gene[gene['regulates.@id'] == gene['regulates.@id']]\n",
        "answer_question_1.shape\n",
        "\n",
        "answer_question_1_2 = answer_question_1[['@id', 'regulates.@id']]\n",
        "answer_question_1_2.shape"
      ],
      "metadata": {
        "id": "TvdvT3n1HITt",
        "outputId": "5bf705c0-8b7c-475b-d7c7-12fcfad55e70",
        "colab": {
          "base_uri": "https://localhost:8080/"
        }
      },
      "execution_count": 47,
      "outputs": [
        {
          "output_type": "execute_result",
          "data": {
            "text/plain": [
              "(4634, 2)"
            ]
          },
          "metadata": {},
          "execution_count": 47
        }
      ]
    },
    {
      "cell_type": "code",
      "source": [
        "answer_question_1_3 = answer_question_1_2[answer_question_1_2['regulates.@id'].apply(len) > 15]\n",
        "\n",
        "answer_question_1_3.shape"
      ],
      "metadata": {
        "id": "HWTdXxt5HZi1",
        "outputId": "43607096-7218-459c-d46f-5680c403cc86",
        "colab": {
          "base_uri": "https://localhost:8080/"
        }
      },
      "execution_count": 48,
      "outputs": [
        {
          "output_type": "execute_result",
          "data": {
            "text/plain": [
              "(3599, 2)"
            ]
          },
          "metadata": {},
          "execution_count": 48
        }
      ]
    },
    {
      "cell_type": "code",
      "source": [
        "# version Pascal\n",
        "\n",
        "gene_regulates_gene = edges_gene_regulates[['@id', '@id_to']].groupby(['@id'],as_index=False).agg({'@id_to': lambda x: x.tolist()})\n",
        "gene_regulates_gene.columns = ['gene_1', 'gene_2_list']\n",
        "answer_question_1 = gene_regulates_gene[gene_regulates_gene['gene_2_list'].apply(len) > 15]\n",
        "\n",
        "answer_question_1.shape"
      ],
      "metadata": {
        "id": "buElC1pBFsuJ",
        "outputId": "07ac81ff-c64d-435d-c59f-e9d1e9e9dcad",
        "colab": {
          "base_uri": "https://localhost:8080/"
        }
      },
      "execution_count": 37,
      "outputs": [
        {
          "output_type": "execute_result",
          "data": {
            "text/plain": [
              "(3599, 2)"
            ]
          },
          "metadata": {},
          "execution_count": 37
        }
      ]
    },
    {
      "cell_type": "markdown",
      "source": [
        "## Question 2"
      ],
      "metadata": {
        "id": "J7_4TfiV_XuX"
      }
    },
    {
      "cell_type": "code",
      "source": [
        "compound_gene = pd.merge(compound[['@id', 'name']], edges_compound_binds[['@id','@id_to']], on='@id')\n",
        "compound_gene.columns = ['compound_id', 'compound_name', 'gene_id']\n",
        "\n",
        "compound_gene_disease = pd.merge(compound_gene, edges_disease_associates[['@id', '@id_to']], left_on='gene_id', right_on='@id_to').drop(['@id_to'], axis=1)\n",
        "compound_gene_disease.columns = ['compound_id', 'compound_name', 'gene_id', 'disease_id']\n",
        "\n",
        "compound_gene_disease = pd.merge(compound_gene_disease, disease[['@id','name']], left_on='disease_id', right_on='@id', how='inner').drop(['@id'], axis=1)\n",
        "compound_gene_disease.columns = ['compound_id', 'compound_name', 'gene_id', 'disease_id', 'disease_name']\n",
        "\n",
        "compound_gene_disease = compound_gene_disease.query('compound_name.str.contains(\"Valproic Acid\")').groupby(['disease_name'],as_index=False).agg({'gene_id': lambda x: x.tolist()})\n",
        "compound_gene_disease['num_of_genes'] = compound_gene_disease['gene_id'].str.len()\n",
        "\n",
        "answer_question_2 = compound_gene_disease.sort_values(by=['num_of_genes'], ascending=False).head(n=3)\n",
        "\n",
        "answer_question_2\n"
      ],
      "metadata": {
        "id": "53i3VsHy8DPu",
        "colab": {
          "base_uri": "https://localhost:8080/",
          "height": 258
        },
        "outputId": "ba9f4013-e389-425b-fa57-5345924c330a"
      },
      "execution_count": 35,
      "outputs": [
        {
          "output_type": "error",
          "ename": "NameError",
          "evalue": "ignored",
          "traceback": [
            "\u001b[0;31m---------------------------------------------------------------------------\u001b[0m",
            "\u001b[0;31mNameError\u001b[0m                                 Traceback (most recent call last)",
            "\u001b[0;32m<ipython-input-35-c4848fea9651>\u001b[0m in \u001b[0;36m<module>\u001b[0;34m\u001b[0m\n\u001b[0;32m----> 1\u001b[0;31m \u001b[0mcompound_gene\u001b[0m \u001b[0;34m=\u001b[0m \u001b[0mpd\u001b[0m\u001b[0;34m.\u001b[0m\u001b[0mmerge\u001b[0m\u001b[0;34m(\u001b[0m\u001b[0mcompound\u001b[0m\u001b[0;34m[\u001b[0m\u001b[0;34m[\u001b[0m\u001b[0;34m'@id'\u001b[0m\u001b[0;34m,\u001b[0m \u001b[0;34m'name'\u001b[0m\u001b[0;34m]\u001b[0m\u001b[0;34m]\u001b[0m\u001b[0;34m,\u001b[0m \u001b[0medges_compound_binds\u001b[0m\u001b[0;34m[\u001b[0m\u001b[0;34m[\u001b[0m\u001b[0;34m'@id'\u001b[0m\u001b[0;34m,\u001b[0m\u001b[0;34m'@id_to'\u001b[0m\u001b[0;34m]\u001b[0m\u001b[0;34m]\u001b[0m\u001b[0;34m,\u001b[0m \u001b[0mon\u001b[0m\u001b[0;34m=\u001b[0m\u001b[0;34m'@id'\u001b[0m\u001b[0;34m)\u001b[0m\u001b[0;34m\u001b[0m\u001b[0;34m\u001b[0m\u001b[0m\n\u001b[0m\u001b[1;32m      2\u001b[0m \u001b[0mcompound_gene\u001b[0m\u001b[0;34m.\u001b[0m\u001b[0mcolumns\u001b[0m \u001b[0;34m=\u001b[0m \u001b[0;34m[\u001b[0m\u001b[0;34m'compound_id'\u001b[0m\u001b[0;34m,\u001b[0m \u001b[0;34m'compound_name'\u001b[0m\u001b[0;34m,\u001b[0m \u001b[0;34m'gene_id'\u001b[0m\u001b[0;34m]\u001b[0m\u001b[0;34m\u001b[0m\u001b[0;34m\u001b[0m\u001b[0m\n\u001b[1;32m      3\u001b[0m \u001b[0;34m\u001b[0m\u001b[0m\n\u001b[1;32m      4\u001b[0m \u001b[0mcompound_gene_disease\u001b[0m \u001b[0;34m=\u001b[0m \u001b[0mpd\u001b[0m\u001b[0;34m.\u001b[0m\u001b[0mmerge\u001b[0m\u001b[0;34m(\u001b[0m\u001b[0mcompound_gene\u001b[0m\u001b[0;34m,\u001b[0m \u001b[0medges_disease_associates\u001b[0m\u001b[0;34m[\u001b[0m\u001b[0;34m[\u001b[0m\u001b[0;34m'@id'\u001b[0m\u001b[0;34m,\u001b[0m \u001b[0;34m'@id_to'\u001b[0m\u001b[0;34m]\u001b[0m\u001b[0;34m]\u001b[0m\u001b[0;34m,\u001b[0m \u001b[0mleft_on\u001b[0m\u001b[0;34m=\u001b[0m\u001b[0;34m'gene_id'\u001b[0m\u001b[0;34m,\u001b[0m \u001b[0mright_on\u001b[0m\u001b[0;34m=\u001b[0m\u001b[0;34m'@id_to'\u001b[0m\u001b[0;34m)\u001b[0m\u001b[0;34m.\u001b[0m\u001b[0mdrop\u001b[0m\u001b[0;34m(\u001b[0m\u001b[0;34m[\u001b[0m\u001b[0;34m'@id_to'\u001b[0m\u001b[0;34m]\u001b[0m\u001b[0;34m,\u001b[0m \u001b[0maxis\u001b[0m\u001b[0;34m=\u001b[0m\u001b[0;36m1\u001b[0m\u001b[0;34m)\u001b[0m\u001b[0;34m\u001b[0m\u001b[0;34m\u001b[0m\u001b[0m\n\u001b[1;32m      5\u001b[0m \u001b[0mcompound_gene_disease\u001b[0m\u001b[0;34m.\u001b[0m\u001b[0mcolumns\u001b[0m \u001b[0;34m=\u001b[0m \u001b[0;34m[\u001b[0m\u001b[0;34m'compound_id'\u001b[0m\u001b[0;34m,\u001b[0m \u001b[0;34m'compound_name'\u001b[0m\u001b[0;34m,\u001b[0m \u001b[0;34m'gene_id'\u001b[0m\u001b[0;34m,\u001b[0m \u001b[0;34m'disease_id'\u001b[0m\u001b[0;34m]\u001b[0m\u001b[0;34m\u001b[0m\u001b[0;34m\u001b[0m\u001b[0m\n",
            "\u001b[0;31mNameError\u001b[0m: name 'edges_compound_binds' is not defined"
          ]
        }
      ]
    },
    {
      "cell_type": "markdown",
      "source": [
        "## Download edges"
      ],
      "metadata": {
        "id": "6L-D2b0lEjYK"
      }
    },
    {
      "cell_type": "markdown",
      "source": [
        "## Question 3"
      ],
      "metadata": {
        "id": "sgHE8hZF_r2V"
      }
    },
    {
      "cell_type": "code",
      "source": [
        "disease_gene1 = pd.merge(disease[['@id','name']], edges_disease_associates[['@id','@id_to']], on='@id')\n",
        "disease_gene1.columns = ['disease_id', 'disease_name', 'gene_1_id']\n",
        "\n",
        "disease_gene1_gene_2 = pd.merge(disease_gene1, edges_gene_interacts[['@id', '@id_to']], left_on = 'gene_1_id', right_on = '@id').drop(['@id'], axis=1)\n",
        "disease_gene1_gene_2.columns = ['disease_id', 'disease_name', 'gene_1_id', 'gene_2_id']\n",
        "\n",
        "disease_gene1_gene_2_process = pd.merge(disease_gene1_gene_2, edges_gene_participates[['@id', '@id_to']], left_on = 'gene_2_id', right_on = '@id').drop(['@id'], axis=1)\n",
        "disease_gene1_gene_2_process.columns = ['disease_id', 'disease_name', 'gene_1_id', 'gene_2_id', 'process_id']\n",
        "disease_gene1_gene_2_process = pd.merge(disease_gene1_gene_2_process, biological_process[['@id', 'name']], left_on = 'process_id', right_on = '@id').drop(['@id'], axis=1)\n",
        "disease_gene1_gene_2_process.columns = ['disease_id', 'disease_name', 'gene_1_id', 'gene_2_id', 'process_id', 'process_name']\n",
        "\n",
        "answer_question_3 = disease_gene1_gene_2_process.query('disease_name.str.contains(\"multiple sclerosis\") & process_name.str.contains(\"retina layer formation\")')\n",
        "\n",
        "answer_question_3"
      ],
      "metadata": {
        "id": "ybPpTBlbAbIN"
      },
      "execution_count": null,
      "outputs": []
    }
  ]
}