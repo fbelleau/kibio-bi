{
  "nbformat": 4,
  "nbformat_minor": 0,
  "metadata": {
    "colab": {
      "provenance": [],
      "include_colab_link": true
    },
    "kernelspec": {
      "name": "python3",
      "display_name": "Python 3"
    },
    "language_info": {
      "name": "python"
    }
  },
  "cells": [
    {
      "cell_type": "markdown",
      "metadata": {
        "id": "view-in-github",
        "colab_type": "text"
      },
      "source": [
        "<a href=\"https://colab.research.google.com/github/fbelleau/kibio-bi/blob/main/Demo_case_2_public.ipynb\" target=\"_parent\"><img src=\"https://colab.research.google.com/assets/colab-badge.svg\" alt=\"Open In Colab\"/></a>"
      ]
    },
    {
      "cell_type": "markdown",
      "source": [
        "### Install Eland librairy compatible with actual Kibio.science version"
      ],
      "metadata": {
        "id": "KHxVU6jVBGtH"
      }
    },
    {
      "cell_type": "code",
      "execution_count": null,
      "metadata": {
        "id": "tb87_JPVXHLJ"
      },
      "outputs": [],
      "source": [
        "!pip install eland==7.14.0b1\n",
        "\n",
        "import eland as ed"
      ]
    },
    {
      "cell_type": "markdown",
      "source": [
        "## Install most recent version of Pandas (default on Collab is 1.3.5)"
      ],
      "metadata": {
        "id": "C47kR762_kk0"
      }
    },
    {
      "cell_type": "code",
      "source": [
        "\n",
        "\n",
        "import pandas as pd\n",
        "\n",
        "pd.__version__"
      ],
      "metadata": {
        "colab": {
          "base_uri": "https://localhost:8080/",
          "height": 35
        },
        "id": "EaHIVt2r_aTZ",
        "outputId": "6952f627-e5ac-42be-8ada-9df0b7d410da"
      },
      "execution_count": 2,
      "outputs": [
        {
          "output_type": "execute_result",
          "data": {
            "text/plain": [
              "'1.3.5'"
            ],
            "application/vnd.google.colaboratory.intrinsic+json": {
              "type": "string"
            }
          },
          "metadata": {},
          "execution_count": 2
        }
      ]
    },
    {
      "cell_type": "markdown",
      "source": [
        "## Import Elasticsearch's needed librairies"
      ],
      "metadata": {
        "id": "2f0r9fSjyeUW"
      }
    },
    {
      "cell_type": "code",
      "source": [
        "from elasticsearch import Elasticsearch, helpers\n",
        "import matplotlib.pyplot as plt"
      ],
      "metadata": {
        "id": "MXEhEb1Ax_6O"
      },
      "execution_count": 3,
      "outputs": []
    },
    {
      "cell_type": "markdown",
      "source": [
        "## Create connection to Kibio.science's Elastiseach REST endpoint"
      ],
      "metadata": {
        "id": "-h3gXVbYBPNI"
      }
    },
    {
      "cell_type": "code",
      "source": [
        "es = Elasticsearch(\"http://es.kibio.science:80\", verify_certs=False, ssl_show_warn=False)\n",
        "es"
      ],
      "metadata": {
        "colab": {
          "base_uri": "https://localhost:8080/"
        },
        "id": "YPaVALVu9WrR",
        "outputId": "fbb830d2-eb38-4531-cc6e-102abc222c65"
      },
      "execution_count": 4,
      "outputs": [
        {
          "output_type": "execute_result",
          "data": {
            "text/plain": [
              "<Elasticsearch([{'host': 'es.kibio.science', 'port': 80}])>"
            ]
          },
          "metadata": {},
          "execution_count": 4
        }
      ]
    },
    {
      "cell_type": "markdown",
      "source": [
        "## Dowload needed dataframes from Kibio.science using Elasticsearch's Eland librairy"
      ],
      "metadata": {
        "id": "BGK0We9s-yFL"
      }
    },
    {
      "cell_type": "code",
      "source": [
        "# download nodes\n",
        "\n",
        "disease = ed.eland_to_pandas(ed.DataFrame(es_client= es, es_index_pattern='hetionet_disease_201811'))\n",
        "print(\"disease\", disease.shape)\n",
        "gene = ed.eland_to_pandas(ed.DataFrame(es_client= es, es_index_pattern='hetionet_gene_201811'))\n",
        "print(\"gene\", gene.shape)\n",
        "compound = ed.eland_to_pandas(ed.DataFrame(es_client= es, es_index_pattern='hetionet_compound_201811'))\n",
        "print(\"compound\", compound.shape)\n",
        "biological_process = ed.eland_to_pandas(ed.DataFrame(es_client= es, es_index_pattern='hetionet_biological_process_201811'))\n",
        "print(\"biological_process\", biological_process.shape)"
      ],
      "metadata": {
        "id": "vHAhpjy99q27",
        "colab": {
          "base_uri": "https://localhost:8080/"
        },
        "outputId": "24e13971-ee27-4acb-a50a-ceedb8d7b6fc"
      },
      "execution_count": 20,
      "outputs": [
        {
          "output_type": "stream",
          "name": "stdout",
          "text": [
            "disease (137, 17)\n",
            "gene (20945, 17)\n",
            "compound (1552, 20)\n",
            "biological_process (11381, 11)\n"
          ]
        }
      ]
    },
    {
      "cell_type": "code",
      "source": [
        "# edges_disease_association\n",
        "\n",
        "disease_association = disease[['@id','associates.@id']]\n",
        "disease_association_edges = disease_association.explode('associates.@id')\n",
        "disease_association_edges.shape"
      ],
      "metadata": {
        "colab": {
          "base_uri": "https://localhost:8080/"
        },
        "id": "GMFnanzt6Tyi",
        "outputId": "81ac6fd8-85af-4397-af3e-0aa8029ad780"
      },
      "execution_count": 24,
      "outputs": [
        {
          "output_type": "execute_result",
          "data": {
            "text/plain": [
              "(12626, 2)"
            ]
          },
          "metadata": {},
          "execution_count": 24
        }
      ]
    },
    {
      "cell_type": "code",
      "source": [
        "# edges_gene_regulates\n",
        "\n",
        "gene_regulates = gene[['@id','regulates.@id']]\n",
        "gene_regulates_edges = gene_regulates.explode('regulates.@id')\n",
        "gene_regulates_edges.shape"
      ],
      "metadata": {
        "colab": {
          "base_uri": "https://localhost:8080/"
        },
        "id": "NJ7PwdIK4oYU",
        "outputId": "70933836-ffd8-4b13-bc78-c803fe4fc097"
      },
      "execution_count": 22,
      "outputs": [
        {
          "output_type": "execute_result",
          "data": {
            "text/plain": [
              "(281983, 2)"
            ]
          },
          "metadata": {},
          "execution_count": 22
        }
      ]
    },
    {
      "cell_type": "code",
      "source": [
        "# edges_gene_interacts\n",
        "\n",
        "gene_interacts = gene[['@id','interacts.@id']]\n",
        "gene_interacts_edges = gene_interacts.explode('interacts.@id')\n",
        "gene_interacts_edges.shape"
      ],
      "metadata": {
        "id": "k2rhfSPSKccJ",
        "outputId": "c48adc1e-a5a9-40f2-9b8f-f2e5a91dfa96",
        "colab": {
          "base_uri": "https://localhost:8080/"
        }
      },
      "execution_count": 51,
      "outputs": [
        {
          "output_type": "execute_result",
          "data": {
            "text/plain": [
              "(158583, 2)"
            ]
          },
          "metadata": {},
          "execution_count": 51
        }
      ]
    },
    {
      "cell_type": "code",
      "source": [
        "# edges_gene_participates\n",
        "\n",
        "gene_participates = gene[['@id','participates.@id']]\n",
        "gene_participates_edges = gene_participates.explode('participates.@id')\n",
        "gene_participates_edges.shape"
      ],
      "metadata": {
        "id": "Y4zBFp2-KdDJ",
        "outputId": "fa807c7f-4cb5-4ee0-e321-1723218ba942",
        "colab": {
          "base_uri": "https://localhost:8080/"
        }
      },
      "execution_count": 52,
      "outputs": [
        {
          "output_type": "execute_result",
          "data": {
            "text/plain": [
              "(819199, 2)"
            ]
          },
          "metadata": {},
          "execution_count": 52
        }
      ]
    },
    {
      "cell_type": "code",
      "source": [
        "# edges_compound_binds\n",
        "\n",
        "compound_binds = compound[['@id','binds.@id']]\n",
        "compound_binds_edges = compound_binds.explode('binds.@id')\n",
        "compound_binds_edges.shape"
      ],
      "metadata": {
        "id": "FNsvuKldKdsK",
        "outputId": "524ebe66-e94f-4a92-cba0-7579cdb37abf",
        "colab": {
          "base_uri": "https://localhost:8080/"
        }
      },
      "execution_count": 54,
      "outputs": [
        {
          "output_type": "execute_result",
          "data": {
            "text/plain": [
              "(11734, 2)"
            ]
          },
          "metadata": {},
          "execution_count": 54
        }
      ]
    },
    {
      "cell_type": "code",
      "source": [
        "# download edges\n",
        "\n",
        "edges_disease_associates = ed.eland_to_pandas(ed.DataFrame(es_client= es, es_index_pattern='hetionet_edges_disease_associates'))\n",
        "print(\"edges_disease_associates\", edges_disease_associates.shape)\n",
        "edges_gene_interacts = ed.eland_to_pandas(ed.DataFrame(es_client= es, es_index_pattern='hetionet_edges_gene_interacts'))\n",
        "print(\"edges_gene_interacts\", edges_gene_interacts.shape)\n",
        "edges_gene_participates = ed.eland_to_pandas(ed.DataFrame(es_client= es, es_index_pattern='hetionet_edges_gene_participates'))\n",
        "print(\"edges_gene_participates\", edges_gene_participates.shape)\n",
        "edges_gene_regulates = ed.eland_to_pandas(ed.DataFrame(es_client= es, es_index_pattern='hetionet_edges_gene_regulates'))\n",
        "print(\"edges_gene_regulates\", edges_gene_regulates.shape)\n",
        "edges_compound_binds = ed.eland_to_pandas(ed.DataFrame(es_client= es, es_index_pattern='hetionet_edges_compound_binds'))\n",
        "print(\"edges_compound_binds\", edges_compound_binds.shape)"
      ],
      "metadata": {
        "colab": {
          "base_uri": "https://localhost:8080/"
        },
        "id": "AsqubIpdEfoq",
        "outputId": "c8d5d4b5-f492-492a-a31c-b573c3433063"
      },
      "execution_count": 36,
      "outputs": [
        {
          "output_type": "stream",
          "name": "stdout",
          "text": [
            "edges_disease_associates (12626, 6)\n",
            "edges_gene_interacts (158583, 6)\n",
            "edges_gene_participates (819199, 6)\n",
            "edges_gene_regulates (281983, 6)\n",
            "edges_compound_binds (11734, 6)\n"
          ]
        }
      ]
    },
    {
      "cell_type": "markdown",
      "source": [
        "## Question 1"
      ],
      "metadata": {
        "id": "fIDP6r3P_MS1"
      }
    },
    {
      "cell_type": "code",
      "source": [
        "answer_question_1_1 = gene[gene['regulates.@id'] == gene['regulates.@id']]\n",
        "print(answer_question_1_1.shape)\n",
        "\n",
        "answer_question_1_2 = answer_question_1_1[['@id', 'regulates.@id']]\n",
        "print(answer_question_1_2.shape)\n",
        "\n",
        "answer_question_1_3 = answer_question_1_2[answer_question_1_2['regulates.@id'].apply(len) > 15]\n",
        "\n",
        "answer_question_1_3.shape"
      ],
      "metadata": {
        "colab": {
          "base_uri": "https://localhost:8080/"
        },
        "id": "TvdvT3n1HITt",
        "outputId": "f4186ecf-e8ba-417f-d2d7-bf7701f9901b"
      },
      "execution_count": 61,
      "outputs": [
        {
          "output_type": "stream",
          "name": "stdout",
          "text": [
            "(4634, 17)\n",
            "(4634, 2)\n"
          ]
        },
        {
          "output_type": "execute_result",
          "data": {
            "text/plain": [
              "(3599, 2)"
            ]
          },
          "metadata": {},
          "execution_count": 61
        }
      ]
    },
    {
      "cell_type": "code",
      "source": [
        "# version Pascal\n",
        "\n",
        "gene_regulates_gene = edges_gene_regulates[['@id', '@id_to']].groupby(['@id'],as_index=False).agg({'@id_to': lambda x: x.tolist()})\n",
        "gene_regulates_gene.columns = ['gene_1', 'gene_2_list']\n",
        "answer_question_1 = gene_regulates_gene[gene_regulates_gene['gene_2_list'].apply(len) > 15]\n",
        "\n",
        "answer_question_1.shape"
      ],
      "metadata": {
        "colab": {
          "base_uri": "https://localhost:8080/"
        },
        "id": "buElC1pBFsuJ",
        "outputId": "ad041132-5be2-4674-f6bc-abae5753d30f"
      },
      "execution_count": 62,
      "outputs": [
        {
          "output_type": "execute_result",
          "data": {
            "text/plain": [
              "(3599, 2)"
            ]
          },
          "metadata": {},
          "execution_count": 62
        }
      ]
    },
    {
      "cell_type": "markdown",
      "source": [
        "## Question 2"
      ],
      "metadata": {
        "id": "J7_4TfiV_XuX"
      }
    },
    {
      "cell_type": "code",
      "source": [
        "compound_gene = pd.merge(compound[['@id', 'name']], edges_compound_binds[['@id','@id_to']], on='@id')\n",
        "compound_gene.columns = ['compound_id', 'compound_name', 'gene_id']\n",
        "\n",
        "compound_gene_disease = pd.merge(compound_gene, edges_disease_associates[['@id', '@id_to']], left_on='gene_id', right_on='@id_to').drop(['@id_to'], axis=1)\n",
        "compound_gene_disease.columns = ['compound_id', 'compound_name', 'gene_id', 'disease_id']\n",
        "\n",
        "compound_gene_disease = pd.merge(compound_gene_disease, disease[['@id','name']], left_on='disease_id', right_on='@id', how='inner').drop(['@id'], axis=1)\n",
        "compound_gene_disease.columns = ['compound_id', 'compound_name', 'gene_id', 'disease_id', 'disease_name']\n",
        "\n",
        "compound_gene_disease.shape\n"
      ],
      "metadata": {
        "id": "53i3VsHy8DPu",
        "colab": {
          "base_uri": "https://localhost:8080/"
        },
        "outputId": "7111fc25-8b4b-457c-baba-a4a30aab7de9"
      },
      "execution_count": 65,
      "outputs": [
        {
          "output_type": "execute_result",
          "data": {
            "text/plain": [
              "(47305, 5)"
            ]
          },
          "metadata": {},
          "execution_count": 65
        }
      ]
    },
    {
      "cell_type": "code",
      "source": [
        "\n",
        "compound_gene_disease = compound_gene_disease.query('compound_name.str.contains(\"Valproic Acid\")').groupby(['disease_name'],as_index=False).agg({'gene_id': lambda x: x.tolist()})\n",
        "compound_gene_disease['num_of_genes'] = compound_gene_disease['gene_id'].str.len()\n",
        "\n",
        "answer_question_2 = compound_gene_disease.sort_values(by=['num_of_genes'], ascending=False).head(n=3)\n",
        "\n",
        "answer_question_2"
      ],
      "metadata": {
        "id": "awOiJpLNNZJ6",
        "outputId": "d0758b72-8d44-421a-9a76-afc42944899a",
        "colab": {
          "base_uri": "https://localhost:8080/",
          "height": 407
        }
      },
      "execution_count": 66,
      "outputs": [
        {
          "output_type": "error",
          "ename": "TypeError",
          "evalue": "ignored",
          "traceback": [
            "\u001b[0;31m---------------------------------------------------------------------------\u001b[0m",
            "\u001b[0;31mTypeError\u001b[0m                                 Traceback (most recent call last)",
            "\u001b[0;32m<ipython-input-66-a3be2e480af6>\u001b[0m in \u001b[0;36m<module>\u001b[0;34m\u001b[0m\n\u001b[0;32m----> 1\u001b[0;31m \u001b[0mcompound_gene_disease\u001b[0m \u001b[0;34m=\u001b[0m \u001b[0mcompound_gene_disease\u001b[0m\u001b[0;34m.\u001b[0m\u001b[0mquery\u001b[0m\u001b[0;34m(\u001b[0m\u001b[0;34m'compound_name.str.contains(\"Valproic Acid\")'\u001b[0m\u001b[0;34m)\u001b[0m\u001b[0;34m.\u001b[0m\u001b[0mgroupby\u001b[0m\u001b[0;34m(\u001b[0m\u001b[0;34m[\u001b[0m\u001b[0;34m'disease_name'\u001b[0m\u001b[0;34m]\u001b[0m\u001b[0;34m,\u001b[0m\u001b[0mas_index\u001b[0m\u001b[0;34m=\u001b[0m\u001b[0;32mFalse\u001b[0m\u001b[0;34m)\u001b[0m\u001b[0;34m.\u001b[0m\u001b[0magg\u001b[0m\u001b[0;34m(\u001b[0m\u001b[0;34m{\u001b[0m\u001b[0;34m'gene_id'\u001b[0m\u001b[0;34m:\u001b[0m \u001b[0;32mlambda\u001b[0m \u001b[0mx\u001b[0m\u001b[0;34m:\u001b[0m \u001b[0mx\u001b[0m\u001b[0;34m.\u001b[0m\u001b[0mtolist\u001b[0m\u001b[0;34m(\u001b[0m\u001b[0;34m)\u001b[0m\u001b[0;34m}\u001b[0m\u001b[0;34m)\u001b[0m\u001b[0;34m\u001b[0m\u001b[0;34m\u001b[0m\u001b[0m\n\u001b[0m\u001b[1;32m      2\u001b[0m \u001b[0mcompound_gene_disease\u001b[0m\u001b[0;34m[\u001b[0m\u001b[0;34m'num_of_genes'\u001b[0m\u001b[0;34m]\u001b[0m \u001b[0;34m=\u001b[0m \u001b[0mcompound_gene_disease\u001b[0m\u001b[0;34m[\u001b[0m\u001b[0;34m'gene_id'\u001b[0m\u001b[0;34m]\u001b[0m\u001b[0;34m.\u001b[0m\u001b[0mstr\u001b[0m\u001b[0;34m.\u001b[0m\u001b[0mlen\u001b[0m\u001b[0;34m(\u001b[0m\u001b[0;34m)\u001b[0m\u001b[0;34m\u001b[0m\u001b[0;34m\u001b[0m\u001b[0m\n\u001b[1;32m      3\u001b[0m \u001b[0;34m\u001b[0m\u001b[0m\n\u001b[1;32m      4\u001b[0m \u001b[0manswer_question_2\u001b[0m \u001b[0;34m=\u001b[0m \u001b[0mcompound_gene_disease\u001b[0m\u001b[0;34m.\u001b[0m\u001b[0msort_values\u001b[0m\u001b[0;34m(\u001b[0m\u001b[0mby\u001b[0m\u001b[0;34m=\u001b[0m\u001b[0;34m[\u001b[0m\u001b[0;34m'num_of_genes'\u001b[0m\u001b[0;34m]\u001b[0m\u001b[0;34m,\u001b[0m \u001b[0mascending\u001b[0m\u001b[0;34m=\u001b[0m\u001b[0;32mFalse\u001b[0m\u001b[0;34m)\u001b[0m\u001b[0;34m.\u001b[0m\u001b[0mhead\u001b[0m\u001b[0;34m(\u001b[0m\u001b[0mn\u001b[0m\u001b[0;34m=\u001b[0m\u001b[0;36m3\u001b[0m\u001b[0;34m)\u001b[0m\u001b[0;34m\u001b[0m\u001b[0;34m\u001b[0m\u001b[0m\n\u001b[1;32m      5\u001b[0m \u001b[0;34m\u001b[0m\u001b[0m\n",
            "\u001b[0;32m/usr/local/lib/python3.9/dist-packages/pandas/core/frame.py\u001b[0m in \u001b[0;36mquery\u001b[0;34m(self, expr, inplace, **kwargs)\u001b[0m\n\u001b[1;32m   4058\u001b[0m         \u001b[0mkwargs\u001b[0m\u001b[0;34m[\u001b[0m\u001b[0;34m\"level\"\u001b[0m\u001b[0;34m]\u001b[0m \u001b[0;34m=\u001b[0m \u001b[0mkwargs\u001b[0m\u001b[0;34m.\u001b[0m\u001b[0mpop\u001b[0m\u001b[0;34m(\u001b[0m\u001b[0;34m\"level\"\u001b[0m\u001b[0;34m,\u001b[0m \u001b[0;36m0\u001b[0m\u001b[0;34m)\u001b[0m \u001b[0;34m+\u001b[0m \u001b[0;36m1\u001b[0m\u001b[0;34m\u001b[0m\u001b[0;34m\u001b[0m\u001b[0m\n\u001b[1;32m   4059\u001b[0m         \u001b[0mkwargs\u001b[0m\u001b[0;34m[\u001b[0m\u001b[0;34m\"target\"\u001b[0m\u001b[0;34m]\u001b[0m \u001b[0;34m=\u001b[0m \u001b[0;32mNone\u001b[0m\u001b[0;34m\u001b[0m\u001b[0;34m\u001b[0m\u001b[0m\n\u001b[0;32m-> 4060\u001b[0;31m         \u001b[0mres\u001b[0m \u001b[0;34m=\u001b[0m \u001b[0mself\u001b[0m\u001b[0;34m.\u001b[0m\u001b[0meval\u001b[0m\u001b[0;34m(\u001b[0m\u001b[0mexpr\u001b[0m\u001b[0;34m,\u001b[0m \u001b[0;34m**\u001b[0m\u001b[0mkwargs\u001b[0m\u001b[0;34m)\u001b[0m\u001b[0;34m\u001b[0m\u001b[0;34m\u001b[0m\u001b[0m\n\u001b[0m\u001b[1;32m   4061\u001b[0m \u001b[0;34m\u001b[0m\u001b[0m\n\u001b[1;32m   4062\u001b[0m         \u001b[0;32mtry\u001b[0m\u001b[0;34m:\u001b[0m\u001b[0;34m\u001b[0m\u001b[0;34m\u001b[0m\u001b[0m\n",
            "\u001b[0;32m/usr/local/lib/python3.9/dist-packages/pandas/core/frame.py\u001b[0m in \u001b[0;36meval\u001b[0;34m(self, expr, inplace, **kwargs)\u001b[0m\n\u001b[1;32m   4189\u001b[0m         \u001b[0mkwargs\u001b[0m\u001b[0;34m[\u001b[0m\u001b[0;34m\"resolvers\"\u001b[0m\u001b[0;34m]\u001b[0m \u001b[0;34m=\u001b[0m \u001b[0mkwargs\u001b[0m\u001b[0;34m.\u001b[0m\u001b[0mget\u001b[0m\u001b[0;34m(\u001b[0m\u001b[0;34m\"resolvers\"\u001b[0m\u001b[0;34m,\u001b[0m \u001b[0;34m(\u001b[0m\u001b[0;34m)\u001b[0m\u001b[0;34m)\u001b[0m \u001b[0;34m+\u001b[0m \u001b[0mtuple\u001b[0m\u001b[0;34m(\u001b[0m\u001b[0mresolvers\u001b[0m\u001b[0;34m)\u001b[0m\u001b[0;34m\u001b[0m\u001b[0;34m\u001b[0m\u001b[0m\n\u001b[1;32m   4190\u001b[0m \u001b[0;34m\u001b[0m\u001b[0m\n\u001b[0;32m-> 4191\u001b[0;31m         \u001b[0;32mreturn\u001b[0m \u001b[0m_eval\u001b[0m\u001b[0;34m(\u001b[0m\u001b[0mexpr\u001b[0m\u001b[0;34m,\u001b[0m \u001b[0minplace\u001b[0m\u001b[0;34m=\u001b[0m\u001b[0minplace\u001b[0m\u001b[0;34m,\u001b[0m \u001b[0;34m**\u001b[0m\u001b[0mkwargs\u001b[0m\u001b[0;34m)\u001b[0m\u001b[0;34m\u001b[0m\u001b[0;34m\u001b[0m\u001b[0m\n\u001b[0m\u001b[1;32m   4192\u001b[0m \u001b[0;34m\u001b[0m\u001b[0m\n\u001b[1;32m   4193\u001b[0m     \u001b[0;32mdef\u001b[0m \u001b[0mselect_dtypes\u001b[0m\u001b[0;34m(\u001b[0m\u001b[0mself\u001b[0m\u001b[0;34m,\u001b[0m \u001b[0minclude\u001b[0m\u001b[0;34m=\u001b[0m\u001b[0;32mNone\u001b[0m\u001b[0;34m,\u001b[0m \u001b[0mexclude\u001b[0m\u001b[0;34m=\u001b[0m\u001b[0;32mNone\u001b[0m\u001b[0;34m)\u001b[0m \u001b[0;34m->\u001b[0m \u001b[0mDataFrame\u001b[0m\u001b[0;34m:\u001b[0m\u001b[0;34m\u001b[0m\u001b[0;34m\u001b[0m\u001b[0m\n",
            "\u001b[0;32m/usr/local/lib/python3.9/dist-packages/pandas/core/computation/eval.py\u001b[0m in \u001b[0;36meval\u001b[0;34m(expr, parser, engine, truediv, local_dict, global_dict, resolvers, level, target, inplace)\u001b[0m\n\u001b[1;32m    351\u001b[0m         \u001b[0meng\u001b[0m \u001b[0;34m=\u001b[0m \u001b[0mENGINES\u001b[0m\u001b[0;34m[\u001b[0m\u001b[0mengine\u001b[0m\u001b[0;34m]\u001b[0m\u001b[0;34m\u001b[0m\u001b[0;34m\u001b[0m\u001b[0m\n\u001b[1;32m    352\u001b[0m         \u001b[0meng_inst\u001b[0m \u001b[0;34m=\u001b[0m \u001b[0meng\u001b[0m\u001b[0;34m(\u001b[0m\u001b[0mparsed_expr\u001b[0m\u001b[0;34m)\u001b[0m\u001b[0;34m\u001b[0m\u001b[0;34m\u001b[0m\u001b[0m\n\u001b[0;32m--> 353\u001b[0;31m         \u001b[0mret\u001b[0m \u001b[0;34m=\u001b[0m \u001b[0meng_inst\u001b[0m\u001b[0;34m.\u001b[0m\u001b[0mevaluate\u001b[0m\u001b[0;34m(\u001b[0m\u001b[0;34m)\u001b[0m\u001b[0;34m\u001b[0m\u001b[0;34m\u001b[0m\u001b[0m\n\u001b[0m\u001b[1;32m    354\u001b[0m \u001b[0;34m\u001b[0m\u001b[0m\n\u001b[1;32m    355\u001b[0m         \u001b[0;32mif\u001b[0m \u001b[0mparsed_expr\u001b[0m\u001b[0;34m.\u001b[0m\u001b[0massigner\u001b[0m \u001b[0;32mis\u001b[0m \u001b[0;32mNone\u001b[0m\u001b[0;34m:\u001b[0m\u001b[0;34m\u001b[0m\u001b[0;34m\u001b[0m\u001b[0m\n",
            "\u001b[0;32m/usr/local/lib/python3.9/dist-packages/pandas/core/computation/engines.py\u001b[0m in \u001b[0;36mevaluate\u001b[0;34m(self)\u001b[0m\n\u001b[1;32m     78\u001b[0m \u001b[0;34m\u001b[0m\u001b[0m\n\u001b[1;32m     79\u001b[0m         \u001b[0;31m# make sure no names in resolvers and locals/globals clash\u001b[0m\u001b[0;34m\u001b[0m\u001b[0;34m\u001b[0m\u001b[0m\n\u001b[0;32m---> 80\u001b[0;31m         \u001b[0mres\u001b[0m \u001b[0;34m=\u001b[0m \u001b[0mself\u001b[0m\u001b[0;34m.\u001b[0m\u001b[0m_evaluate\u001b[0m\u001b[0;34m(\u001b[0m\u001b[0;34m)\u001b[0m\u001b[0;34m\u001b[0m\u001b[0;34m\u001b[0m\u001b[0m\n\u001b[0m\u001b[1;32m     81\u001b[0m         return reconstruct_object(\n\u001b[1;32m     82\u001b[0m             \u001b[0mself\u001b[0m\u001b[0;34m.\u001b[0m\u001b[0mresult_type\u001b[0m\u001b[0;34m,\u001b[0m \u001b[0mres\u001b[0m\u001b[0;34m,\u001b[0m \u001b[0mself\u001b[0m\u001b[0;34m.\u001b[0m\u001b[0maligned_axes\u001b[0m\u001b[0;34m,\u001b[0m \u001b[0mself\u001b[0m\u001b[0;34m.\u001b[0m\u001b[0mexpr\u001b[0m\u001b[0;34m.\u001b[0m\u001b[0mterms\u001b[0m\u001b[0;34m.\u001b[0m\u001b[0mreturn_type\u001b[0m\u001b[0;34m\u001b[0m\u001b[0;34m\u001b[0m\u001b[0m\n",
            "\u001b[0;32m/usr/local/lib/python3.9/dist-packages/pandas/core/computation/engines.py\u001b[0m in \u001b[0;36m_evaluate\u001b[0;34m(self)\u001b[0m\n\u001b[1;32m    118\u001b[0m         \u001b[0menv\u001b[0m \u001b[0;34m=\u001b[0m \u001b[0mself\u001b[0m\u001b[0;34m.\u001b[0m\u001b[0mexpr\u001b[0m\u001b[0;34m.\u001b[0m\u001b[0menv\u001b[0m\u001b[0;34m\u001b[0m\u001b[0;34m\u001b[0m\u001b[0m\n\u001b[1;32m    119\u001b[0m         \u001b[0mscope\u001b[0m \u001b[0;34m=\u001b[0m \u001b[0menv\u001b[0m\u001b[0;34m.\u001b[0m\u001b[0mfull_scope\u001b[0m\u001b[0;34m\u001b[0m\u001b[0;34m\u001b[0m\u001b[0m\n\u001b[0;32m--> 120\u001b[0;31m         \u001b[0m_check_ne_builtin_clash\u001b[0m\u001b[0;34m(\u001b[0m\u001b[0mself\u001b[0m\u001b[0;34m.\u001b[0m\u001b[0mexpr\u001b[0m\u001b[0;34m)\u001b[0m\u001b[0;34m\u001b[0m\u001b[0;34m\u001b[0m\u001b[0m\n\u001b[0m\u001b[1;32m    121\u001b[0m         \u001b[0;32mreturn\u001b[0m \u001b[0mne\u001b[0m\u001b[0;34m.\u001b[0m\u001b[0mevaluate\u001b[0m\u001b[0;34m(\u001b[0m\u001b[0ms\u001b[0m\u001b[0;34m,\u001b[0m \u001b[0mlocal_dict\u001b[0m\u001b[0;34m=\u001b[0m\u001b[0mscope\u001b[0m\u001b[0;34m)\u001b[0m\u001b[0;34m\u001b[0m\u001b[0;34m\u001b[0m\u001b[0m\n\u001b[1;32m    122\u001b[0m \u001b[0;34m\u001b[0m\u001b[0m\n",
            "\u001b[0;32m/usr/local/lib/python3.9/dist-packages/pandas/core/computation/engines.py\u001b[0m in \u001b[0;36m_check_ne_builtin_clash\u001b[0;34m(expr)\u001b[0m\n\u001b[1;32m     34\u001b[0m         \u001b[0mTerms\u001b[0m \u001b[0mcan\u001b[0m \u001b[0mcontain\u001b[0m\u001b[0;34m\u001b[0m\u001b[0;34m\u001b[0m\u001b[0m\n\u001b[1;32m     35\u001b[0m     \"\"\"\n\u001b[0;32m---> 36\u001b[0;31m     \u001b[0mnames\u001b[0m \u001b[0;34m=\u001b[0m \u001b[0mexpr\u001b[0m\u001b[0;34m.\u001b[0m\u001b[0mnames\u001b[0m\u001b[0;34m\u001b[0m\u001b[0;34m\u001b[0m\u001b[0m\n\u001b[0m\u001b[1;32m     37\u001b[0m     \u001b[0moverlap\u001b[0m \u001b[0;34m=\u001b[0m \u001b[0mnames\u001b[0m \u001b[0;34m&\u001b[0m \u001b[0m_ne_builtins\u001b[0m\u001b[0;34m\u001b[0m\u001b[0;34m\u001b[0m\u001b[0m\n\u001b[1;32m     38\u001b[0m \u001b[0;34m\u001b[0m\u001b[0m\n",
            "\u001b[0;32m/usr/local/lib/python3.9/dist-packages/pandas/core/computation/expr.py\u001b[0m in \u001b[0;36mnames\u001b[0;34m(self)\u001b[0m\n\u001b[1;32m    831\u001b[0m         \"\"\"\n\u001b[1;32m    832\u001b[0m         \u001b[0;32mif\u001b[0m \u001b[0mis_term\u001b[0m\u001b[0;34m(\u001b[0m\u001b[0mself\u001b[0m\u001b[0;34m.\u001b[0m\u001b[0mterms\u001b[0m\u001b[0;34m)\u001b[0m\u001b[0;34m:\u001b[0m\u001b[0;34m\u001b[0m\u001b[0;34m\u001b[0m\u001b[0m\n\u001b[0;32m--> 833\u001b[0;31m             \u001b[0;32mreturn\u001b[0m \u001b[0mfrozenset\u001b[0m\u001b[0;34m(\u001b[0m\u001b[0;34m[\u001b[0m\u001b[0mself\u001b[0m\u001b[0;34m.\u001b[0m\u001b[0mterms\u001b[0m\u001b[0;34m.\u001b[0m\u001b[0mname\u001b[0m\u001b[0;34m]\u001b[0m\u001b[0;34m)\u001b[0m\u001b[0;34m\u001b[0m\u001b[0;34m\u001b[0m\u001b[0m\n\u001b[0m\u001b[1;32m    834\u001b[0m         \u001b[0;32mreturn\u001b[0m \u001b[0mfrozenset\u001b[0m\u001b[0;34m(\u001b[0m\u001b[0mterm\u001b[0m\u001b[0;34m.\u001b[0m\u001b[0mname\u001b[0m \u001b[0;32mfor\u001b[0m \u001b[0mterm\u001b[0m \u001b[0;32min\u001b[0m \u001b[0mcom\u001b[0m\u001b[0;34m.\u001b[0m\u001b[0mflatten\u001b[0m\u001b[0;34m(\u001b[0m\u001b[0mself\u001b[0m\u001b[0;34m.\u001b[0m\u001b[0mterms\u001b[0m\u001b[0;34m)\u001b[0m\u001b[0;34m)\u001b[0m\u001b[0;34m\u001b[0m\u001b[0;34m\u001b[0m\u001b[0m\n\u001b[1;32m    835\u001b[0m \u001b[0;34m\u001b[0m\u001b[0m\n",
            "\u001b[0;31mTypeError\u001b[0m: unhashable type: 'Series'"
          ]
        }
      ]
    },
    {
      "cell_type": "markdown",
      "source": [
        "## Download edges"
      ],
      "metadata": {
        "id": "6L-D2b0lEjYK"
      }
    },
    {
      "cell_type": "markdown",
      "source": [
        "## Question 3"
      ],
      "metadata": {
        "id": "sgHE8hZF_r2V"
      }
    },
    {
      "cell_type": "code",
      "source": [
        "disease_1 = disease.query('name == \"multiple sclerosis\"')"
      ],
      "metadata": {
        "id": "U9I6HEtwPhxF"
      },
      "execution_count": 78,
      "outputs": []
    },
    {
      "cell_type": "code",
      "source": [
        "disease"
      ],
      "metadata": {
        "id": "Scldbfu8PohW",
        "outputId": "0213d98d-2b6e-4fd1-d8dd-47c1947795bb",
        "colab": {
          "base_uri": "https://localhost:8080/",
          "height": 922
        }
      },
      "execution_count": 77,
      "outputs": [
        {
          "output_type": "execute_result",
          "data": {
            "text/plain": [
              "                      @context         @id  \\\n",
              "DOID:363    http://schema.org/    DOID:363   \n",
              "DOID:14268  http://schema.org/  DOID:14268   \n",
              "DOID:9352   http://schema.org/   DOID:9352   \n",
              "DOID:8778   http://schema.org/   DOID:8778   \n",
              "DOID:1612   http://schema.org/   DOID:1612   \n",
              "...                        ...         ...   \n",
              "DOID:784    http://schema.org/    DOID:784   \n",
              "DOID:986    http://schema.org/    DOID:986   \n",
              "DOID:10534  http://schema.org/  DOID:10534   \n",
              "DOID:2841   http://schema.org/   DOID:2841   \n",
              "DOID:13189  http://schema.org/  DOID:13189   \n",
              "\n",
              "                                          @label @namespace             @type  \\\n",
              "DOID:363               uterine cancer [DOID:363]       DOID  hetionet:Disease   \n",
              "DOID:14268   sclerosing cholangitis [DOID:14268]       DOID  hetionet:Disease   \n",
              "DOID:9352   type 2 diabetes mellitus [DOID:9352]       DOID  hetionet:Disease   \n",
              "DOID:8778            Crohn's disease [DOID:8778]       DOID  hetionet:Disease   \n",
              "DOID:1612              breast cancer [DOID:1612]       DOID  hetionet:Disease   \n",
              "...                                          ...        ...               ...   \n",
              "DOID:784       chronic kidney failure [DOID:784]       DOID  hetionet:Disease   \n",
              "DOID:986              alopecia areata [DOID:986]       DOID  hetionet:Disease   \n",
              "DOID:10534           stomach cancer [DOID:10534]       DOID  hetionet:Disease   \n",
              "DOID:2841                     asthma [DOID:2841]       DOID  hetionet:Disease   \n",
              "DOID:13189                     gout [DOID:13189]       DOID  hetionet:Disease   \n",
              "\n",
              "              DOID.@id                                     associates.@id  \\\n",
              "DOID:363      DOID:363  [ncbigene:4436, ncbigene:7869, ncbigene:3480, ...   \n",
              "DOID:14268  DOID:14268  [ncbigene:6925, ncbigene:251, ncbigene:2805, n...   \n",
              "DOID:9352    DOID:9352  [ncbigene:200186, ncbigene:6647, ncbigene:1112...   \n",
              "DOID:8778    DOID:8778  [ncbigene:1238, ncbigene:120892, ncbigene:3576...   \n",
              "DOID:1612    DOID:1612  [ncbigene:3190, ncbigene:8871, ncbigene:4904, ...   \n",
              "...                ...                                                ...   \n",
              "DOID:784      DOID:784  [ncbigene:5243, ncbigene:83879, ncbigene:1543,...   \n",
              "DOID:986      DOID:986  [ncbigene:79465, ncbigene:4283, ncbigene:920, ...   \n",
              "DOID:10534  DOID:10534  [ncbigene:5886, ncbigene:84634, ncbigene:1674,...   \n",
              "DOID:2841    DOID:2841  [ncbigene:10419, ncbigene:3135, ncbigene:4049,...   \n",
              "DOID:13189  DOID:13189  [ncbigene:9429, ncbigene:55604, ncbigene:593, ...   \n",
              "\n",
              "           data.license       data.source  \\\n",
              "DOID:363      CC BY 3.0  Disease Ontology   \n",
              "DOID:14268    CC BY 3.0  Disease Ontology   \n",
              "DOID:9352     CC BY 3.0  Disease Ontology   \n",
              "DOID:8778     CC BY 3.0  Disease Ontology   \n",
              "DOID:1612     CC BY 3.0  Disease Ontology   \n",
              "...                 ...               ...   \n",
              "DOID:784      CC BY 3.0  Disease Ontology   \n",
              "DOID:986      CC BY 3.0  Disease Ontology   \n",
              "DOID:10534    CC BY 3.0  Disease Ontology   \n",
              "DOID:2841     CC BY 3.0  Disease Ontology   \n",
              "DOID:13189    CC BY 3.0  Disease Ontology   \n",
              "\n",
              "                                             data.url  \\\n",
              "DOID:363      http://purl.obolibrary.org/obo/DOID_363   \n",
              "DOID:14268  http://purl.obolibrary.org/obo/DOID_14268   \n",
              "DOID:9352    http://purl.obolibrary.org/obo/DOID_9352   \n",
              "DOID:8778    http://purl.obolibrary.org/obo/DOID_8778   \n",
              "DOID:1612    http://purl.obolibrary.org/obo/DOID_1612   \n",
              "...                                               ...   \n",
              "DOID:784      http://purl.obolibrary.org/obo/DOID_784   \n",
              "DOID:986      http://purl.obolibrary.org/obo/DOID_986   \n",
              "DOID:10534  http://purl.obolibrary.org/obo/DOID_10534   \n",
              "DOID:2841    http://purl.obolibrary.org/obo/DOID_2841   \n",
              "DOID:13189  http://purl.obolibrary.org/obo/DOID_13189   \n",
              "\n",
              "                                            downregulates.@id     kind  \\\n",
              "DOID:363                                                  NaN  Disease   \n",
              "DOID:14268                                                NaN  Disease   \n",
              "DOID:9352                                                 NaN  Disease   \n",
              "DOID:8778   [ncbigene:10206, ncbigene:5243, ncbigene:37519...  Disease   \n",
              "DOID:1612   [ncbigene:55084, ncbigene:4609, ncbigene:1756,...  Disease   \n",
              "...                                                       ...      ...   \n",
              "DOID:784                                                  NaN  Disease   \n",
              "DOID:986    [ncbigene:84445, ncbigene:9632, ncbigene:8774,...  Disease   \n",
              "DOID:10534                                                NaN  Disease   \n",
              "DOID:2841                                                 NaN  Disease   \n",
              "DOID:13189                                                NaN  Disease   \n",
              "\n",
              "                                                localizes.@id  \\\n",
              "DOID:363    [UBERON:0000992, UBERON:0002512, UBERON:000099...   \n",
              "DOID:14268  [UBERON:0002110, UBERON:0001193, UBERON:000117...   \n",
              "DOID:9352   [UBERON:0002103, UBERON:0001021, UBERON:000238...   \n",
              "DOID:8778   [UBERON:0002378, UBERON:0002110, UBERON:000201...   \n",
              "DOID:1612   [UBERON:0002066, UBERON:0003889, UBERON:000191...   \n",
              "...                                                       ...   \n",
              "DOID:784    [UBERON:0002386, UBERON:0001007, UBERON:000140...   \n",
              "DOID:986    [UBERON:0001037, UBERON:0002073, UBERON:000182...   \n",
              "DOID:10534  [UBERON:0002017, UBERON:0002466, UBERON:000113...   \n",
              "DOID:2841   [UBERON:0002365, UBERON:0001037, UBERON:000001...   \n",
              "DOID:13189  [UBERON:0001461, UBERON:0001365, UBERON:000149...   \n",
              "\n",
              "                                name  \\\n",
              "DOID:363              uterine cancer   \n",
              "DOID:14268    sclerosing cholangitis   \n",
              "DOID:9352   type 2 diabetes mellitus   \n",
              "DOID:8778            Crohn's disease   \n",
              "DOID:1612              breast cancer   \n",
              "...                              ...   \n",
              "DOID:784      chronic kidney failure   \n",
              "DOID:986             alopecia areata   \n",
              "DOID:10534            stomach cancer   \n",
              "DOID:2841                     asthma   \n",
              "DOID:13189                      gout   \n",
              "\n",
              "                                                 presents.@id  \\\n",
              "DOID:363    [Symptom:D000860, Symptom:D014549, Symptom:D00...   \n",
              "DOID:14268  [Symptom:D007565, Symptom:D041781, Symptom:D00...   \n",
              "DOID:9352   [Symptom:D005483, Symptom:D054058, Symptom:D00...   \n",
              "DOID:8778   [Symptom:D003967, Symptom:D015746, Symptom:D00...   \n",
              "DOID:1612   [Symptom:D059373, Symptom:D001247, Symptom:D01...   \n",
              "...                                                       ...   \n",
              "DOID:784    [Symptom:D054058, Symptom:D000787, Symptom:D00...   \n",
              "DOID:986    [Symptom:D011538, Symptom:D006311, Symptom:D00...   \n",
              "DOID:10534  [Symptom:D006356, Symptom:D056865, Symptom:D00...   \n",
              "DOID:2841   [Symptom:D006985, Symptom:D006685, Symptom:D00...   \n",
              "DOID:13189  [Symptom:D010146, Symptom:D018771, Symptom:D00...   \n",
              "\n",
              "                                                resembles.@id  \\\n",
              "DOID:363          [DOID:1245, DOID:119, DOID:175, DOID:13223]   \n",
              "DOID:14268                                          DOID:8577   \n",
              "DOID:9352                                                 NaN   \n",
              "DOID:8778   [DOID:14268, DOID:7147, DOID:13499, DOID:10608...   \n",
              "DOID:1612                               [DOID:219, DOID:2394]   \n",
              "...                                                       ...   \n",
              "DOID:784    [DOID:10976, DOID:10763, DOID:0050425, DOID:1312]   \n",
              "DOID:986                   [DOID:8893, DOID:12306, DOID:3310]   \n",
              "DOID:10534                                         DOID:13223   \n",
              "DOID:2841                              [DOID:3310, DOID:3083]   \n",
              "DOID:13189                  [DOID:9008, DOID:7148, DOID:8398]   \n",
              "\n",
              "                                              upregulates.@id  \n",
              "DOID:363                                                  NaN  \n",
              "DOID:14268                                                NaN  \n",
              "DOID:9352                                      ncbigene:57524  \n",
              "DOID:8778   [ncbigene:30817, ncbigene:9601, ncbigene:211, ...  \n",
              "DOID:1612   [ncbigene:23753, ncbigene:26585, ncbigene:7989...  \n",
              "...                                                       ...  \n",
              "DOID:784                                                  NaN  \n",
              "DOID:986    [ncbigene:5551, ncbigene:2581, ncbigene:53344,...  \n",
              "DOID:10534                                                NaN  \n",
              "DOID:2841   [ncbigene:22905, ncbigene:1469, ncbigene:40142...  \n",
              "DOID:13189                                                NaN  \n",
              "\n",
              "[137 rows x 17 columns]"
            ],
            "text/html": [
              "\n",
              "  <div id=\"df-94060acd-d55e-4668-a177-e5376b8e789c\">\n",
              "    <div class=\"colab-df-container\">\n",
              "      <div>\n",
              "<style scoped>\n",
              "    .dataframe tbody tr th:only-of-type {\n",
              "        vertical-align: middle;\n",
              "    }\n",
              "\n",
              "    .dataframe tbody tr th {\n",
              "        vertical-align: top;\n",
              "    }\n",
              "\n",
              "    .dataframe thead th {\n",
              "        text-align: right;\n",
              "    }\n",
              "</style>\n",
              "<table border=\"1\" class=\"dataframe\">\n",
              "  <thead>\n",
              "    <tr style=\"text-align: right;\">\n",
              "      <th></th>\n",
              "      <th>@context</th>\n",
              "      <th>@id</th>\n",
              "      <th>@label</th>\n",
              "      <th>@namespace</th>\n",
              "      <th>@type</th>\n",
              "      <th>DOID.@id</th>\n",
              "      <th>associates.@id</th>\n",
              "      <th>data.license</th>\n",
              "      <th>data.source</th>\n",
              "      <th>data.url</th>\n",
              "      <th>downregulates.@id</th>\n",
              "      <th>kind</th>\n",
              "      <th>localizes.@id</th>\n",
              "      <th>name</th>\n",
              "      <th>presents.@id</th>\n",
              "      <th>resembles.@id</th>\n",
              "      <th>upregulates.@id</th>\n",
              "    </tr>\n",
              "  </thead>\n",
              "  <tbody>\n",
              "    <tr>\n",
              "      <th>DOID:363</th>\n",
              "      <td>http://schema.org/</td>\n",
              "      <td>DOID:363</td>\n",
              "      <td>uterine cancer [DOID:363]</td>\n",
              "      <td>DOID</td>\n",
              "      <td>hetionet:Disease</td>\n",
              "      <td>DOID:363</td>\n",
              "      <td>[ncbigene:4436, ncbigene:7869, ncbigene:3480, ...</td>\n",
              "      <td>CC BY 3.0</td>\n",
              "      <td>Disease Ontology</td>\n",
              "      <td>http://purl.obolibrary.org/obo/DOID_363</td>\n",
              "      <td>NaN</td>\n",
              "      <td>Disease</td>\n",
              "      <td>[UBERON:0000992, UBERON:0002512, UBERON:000099...</td>\n",
              "      <td>uterine cancer</td>\n",
              "      <td>[Symptom:D000860, Symptom:D014549, Symptom:D00...</td>\n",
              "      <td>[DOID:1245, DOID:119, DOID:175, DOID:13223]</td>\n",
              "      <td>NaN</td>\n",
              "    </tr>\n",
              "    <tr>\n",
              "      <th>DOID:14268</th>\n",
              "      <td>http://schema.org/</td>\n",
              "      <td>DOID:14268</td>\n",
              "      <td>sclerosing cholangitis [DOID:14268]</td>\n",
              "      <td>DOID</td>\n",
              "      <td>hetionet:Disease</td>\n",
              "      <td>DOID:14268</td>\n",
              "      <td>[ncbigene:6925, ncbigene:251, ncbigene:2805, n...</td>\n",
              "      <td>CC BY 3.0</td>\n",
              "      <td>Disease Ontology</td>\n",
              "      <td>http://purl.obolibrary.org/obo/DOID_14268</td>\n",
              "      <td>NaN</td>\n",
              "      <td>Disease</td>\n",
              "      <td>[UBERON:0002110, UBERON:0001193, UBERON:000117...</td>\n",
              "      <td>sclerosing cholangitis</td>\n",
              "      <td>[Symptom:D007565, Symptom:D041781, Symptom:D00...</td>\n",
              "      <td>DOID:8577</td>\n",
              "      <td>NaN</td>\n",
              "    </tr>\n",
              "    <tr>\n",
              "      <th>DOID:9352</th>\n",
              "      <td>http://schema.org/</td>\n",
              "      <td>DOID:9352</td>\n",
              "      <td>type 2 diabetes mellitus [DOID:9352]</td>\n",
              "      <td>DOID</td>\n",
              "      <td>hetionet:Disease</td>\n",
              "      <td>DOID:9352</td>\n",
              "      <td>[ncbigene:200186, ncbigene:6647, ncbigene:1112...</td>\n",
              "      <td>CC BY 3.0</td>\n",
              "      <td>Disease Ontology</td>\n",
              "      <td>http://purl.obolibrary.org/obo/DOID_9352</td>\n",
              "      <td>NaN</td>\n",
              "      <td>Disease</td>\n",
              "      <td>[UBERON:0002103, UBERON:0001021, UBERON:000238...</td>\n",
              "      <td>type 2 diabetes mellitus</td>\n",
              "      <td>[Symptom:D005483, Symptom:D054058, Symptom:D00...</td>\n",
              "      <td>NaN</td>\n",
              "      <td>ncbigene:57524</td>\n",
              "    </tr>\n",
              "    <tr>\n",
              "      <th>DOID:8778</th>\n",
              "      <td>http://schema.org/</td>\n",
              "      <td>DOID:8778</td>\n",
              "      <td>Crohn's disease [DOID:8778]</td>\n",
              "      <td>DOID</td>\n",
              "      <td>hetionet:Disease</td>\n",
              "      <td>DOID:8778</td>\n",
              "      <td>[ncbigene:1238, ncbigene:120892, ncbigene:3576...</td>\n",
              "      <td>CC BY 3.0</td>\n",
              "      <td>Disease Ontology</td>\n",
              "      <td>http://purl.obolibrary.org/obo/DOID_8778</td>\n",
              "      <td>[ncbigene:10206, ncbigene:5243, ncbigene:37519...</td>\n",
              "      <td>Disease</td>\n",
              "      <td>[UBERON:0002378, UBERON:0002110, UBERON:000201...</td>\n",
              "      <td>Crohn's disease</td>\n",
              "      <td>[Symptom:D003967, Symptom:D015746, Symptom:D00...</td>\n",
              "      <td>[DOID:14268, DOID:7147, DOID:13499, DOID:10608...</td>\n",
              "      <td>[ncbigene:30817, ncbigene:9601, ncbigene:211, ...</td>\n",
              "    </tr>\n",
              "    <tr>\n",
              "      <th>DOID:1612</th>\n",
              "      <td>http://schema.org/</td>\n",
              "      <td>DOID:1612</td>\n",
              "      <td>breast cancer [DOID:1612]</td>\n",
              "      <td>DOID</td>\n",
              "      <td>hetionet:Disease</td>\n",
              "      <td>DOID:1612</td>\n",
              "      <td>[ncbigene:3190, ncbigene:8871, ncbigene:4904, ...</td>\n",
              "      <td>CC BY 3.0</td>\n",
              "      <td>Disease Ontology</td>\n",
              "      <td>http://purl.obolibrary.org/obo/DOID_1612</td>\n",
              "      <td>[ncbigene:55084, ncbigene:4609, ncbigene:1756,...</td>\n",
              "      <td>Disease</td>\n",
              "      <td>[UBERON:0002066, UBERON:0003889, UBERON:000191...</td>\n",
              "      <td>breast cancer</td>\n",
              "      <td>[Symptom:D059373, Symptom:D001247, Symptom:D01...</td>\n",
              "      <td>[DOID:219, DOID:2394]</td>\n",
              "      <td>[ncbigene:23753, ncbigene:26585, ncbigene:7989...</td>\n",
              "    </tr>\n",
              "    <tr>\n",
              "      <th>...</th>\n",
              "      <td>...</td>\n",
              "      <td>...</td>\n",
              "      <td>...</td>\n",
              "      <td>...</td>\n",
              "      <td>...</td>\n",
              "      <td>...</td>\n",
              "      <td>...</td>\n",
              "      <td>...</td>\n",
              "      <td>...</td>\n",
              "      <td>...</td>\n",
              "      <td>...</td>\n",
              "      <td>...</td>\n",
              "      <td>...</td>\n",
              "      <td>...</td>\n",
              "      <td>...</td>\n",
              "      <td>...</td>\n",
              "      <td>...</td>\n",
              "    </tr>\n",
              "    <tr>\n",
              "      <th>DOID:784</th>\n",
              "      <td>http://schema.org/</td>\n",
              "      <td>DOID:784</td>\n",
              "      <td>chronic kidney failure [DOID:784]</td>\n",
              "      <td>DOID</td>\n",
              "      <td>hetionet:Disease</td>\n",
              "      <td>DOID:784</td>\n",
              "      <td>[ncbigene:5243, ncbigene:83879, ncbigene:1543,...</td>\n",
              "      <td>CC BY 3.0</td>\n",
              "      <td>Disease Ontology</td>\n",
              "      <td>http://purl.obolibrary.org/obo/DOID_784</td>\n",
              "      <td>NaN</td>\n",
              "      <td>Disease</td>\n",
              "      <td>[UBERON:0002386, UBERON:0001007, UBERON:000140...</td>\n",
              "      <td>chronic kidney failure</td>\n",
              "      <td>[Symptom:D054058, Symptom:D000787, Symptom:D00...</td>\n",
              "      <td>[DOID:10976, DOID:10763, DOID:0050425, DOID:1312]</td>\n",
              "      <td>NaN</td>\n",
              "    </tr>\n",
              "    <tr>\n",
              "      <th>DOID:986</th>\n",
              "      <td>http://schema.org/</td>\n",
              "      <td>DOID:986</td>\n",
              "      <td>alopecia areata [DOID:986]</td>\n",
              "      <td>DOID</td>\n",
              "      <td>hetionet:Disease</td>\n",
              "      <td>DOID:986</td>\n",
              "      <td>[ncbigene:79465, ncbigene:4283, ncbigene:920, ...</td>\n",
              "      <td>CC BY 3.0</td>\n",
              "      <td>Disease Ontology</td>\n",
              "      <td>http://purl.obolibrary.org/obo/DOID_986</td>\n",
              "      <td>[ncbigene:84445, ncbigene:9632, ncbigene:8774,...</td>\n",
              "      <td>Disease</td>\n",
              "      <td>[UBERON:0001037, UBERON:0002073, UBERON:000182...</td>\n",
              "      <td>alopecia areata</td>\n",
              "      <td>[Symptom:D011538, Symptom:D006311, Symptom:D00...</td>\n",
              "      <td>[DOID:8893, DOID:12306, DOID:3310]</td>\n",
              "      <td>[ncbigene:5551, ncbigene:2581, ncbigene:53344,...</td>\n",
              "    </tr>\n",
              "    <tr>\n",
              "      <th>DOID:10534</th>\n",
              "      <td>http://schema.org/</td>\n",
              "      <td>DOID:10534</td>\n",
              "      <td>stomach cancer [DOID:10534]</td>\n",
              "      <td>DOID</td>\n",
              "      <td>hetionet:Disease</td>\n",
              "      <td>DOID:10534</td>\n",
              "      <td>[ncbigene:5886, ncbigene:84634, ncbigene:1674,...</td>\n",
              "      <td>CC BY 3.0</td>\n",
              "      <td>Disease Ontology</td>\n",
              "      <td>http://purl.obolibrary.org/obo/DOID_10534</td>\n",
              "      <td>NaN</td>\n",
              "      <td>Disease</td>\n",
              "      <td>[UBERON:0002017, UBERON:0002466, UBERON:000113...</td>\n",
              "      <td>stomach cancer</td>\n",
              "      <td>[Symptom:D006356, Symptom:D056865, Symptom:D00...</td>\n",
              "      <td>DOID:13223</td>\n",
              "      <td>NaN</td>\n",
              "    </tr>\n",
              "    <tr>\n",
              "      <th>DOID:2841</th>\n",
              "      <td>http://schema.org/</td>\n",
              "      <td>DOID:2841</td>\n",
              "      <td>asthma [DOID:2841]</td>\n",
              "      <td>DOID</td>\n",
              "      <td>hetionet:Disease</td>\n",
              "      <td>DOID:2841</td>\n",
              "      <td>[ncbigene:10419, ncbigene:3135, ncbigene:4049,...</td>\n",
              "      <td>CC BY 3.0</td>\n",
              "      <td>Disease Ontology</td>\n",
              "      <td>http://purl.obolibrary.org/obo/DOID_2841</td>\n",
              "      <td>NaN</td>\n",
              "      <td>Disease</td>\n",
              "      <td>[UBERON:0002365, UBERON:0001037, UBERON:000001...</td>\n",
              "      <td>asthma</td>\n",
              "      <td>[Symptom:D006985, Symptom:D006685, Symptom:D00...</td>\n",
              "      <td>[DOID:3310, DOID:3083]</td>\n",
              "      <td>[ncbigene:22905, ncbigene:1469, ncbigene:40142...</td>\n",
              "    </tr>\n",
              "    <tr>\n",
              "      <th>DOID:13189</th>\n",
              "      <td>http://schema.org/</td>\n",
              "      <td>DOID:13189</td>\n",
              "      <td>gout [DOID:13189]</td>\n",
              "      <td>DOID</td>\n",
              "      <td>hetionet:Disease</td>\n",
              "      <td>DOID:13189</td>\n",
              "      <td>[ncbigene:9429, ncbigene:55604, ncbigene:593, ...</td>\n",
              "      <td>CC BY 3.0</td>\n",
              "      <td>Disease Ontology</td>\n",
              "      <td>http://purl.obolibrary.org/obo/DOID_13189</td>\n",
              "      <td>NaN</td>\n",
              "      <td>Disease</td>\n",
              "      <td>[UBERON:0001461, UBERON:0001365, UBERON:000149...</td>\n",
              "      <td>gout</td>\n",
              "      <td>[Symptom:D010146, Symptom:D018771, Symptom:D00...</td>\n",
              "      <td>[DOID:9008, DOID:7148, DOID:8398]</td>\n",
              "      <td>NaN</td>\n",
              "    </tr>\n",
              "  </tbody>\n",
              "</table>\n",
              "<p>137 rows × 17 columns</p>\n",
              "</div>\n",
              "      <button class=\"colab-df-convert\" onclick=\"convertToInteractive('df-94060acd-d55e-4668-a177-e5376b8e789c')\"\n",
              "              title=\"Convert this dataframe to an interactive table.\"\n",
              "              style=\"display:none;\">\n",
              "        \n",
              "  <svg xmlns=\"http://www.w3.org/2000/svg\" height=\"24px\"viewBox=\"0 0 24 24\"\n",
              "       width=\"24px\">\n",
              "    <path d=\"M0 0h24v24H0V0z\" fill=\"none\"/>\n",
              "    <path d=\"M18.56 5.44l.94 2.06.94-2.06 2.06-.94-2.06-.94-.94-2.06-.94 2.06-2.06.94zm-11 1L8.5 8.5l.94-2.06 2.06-.94-2.06-.94L8.5 2.5l-.94 2.06-2.06.94zm10 10l.94 2.06.94-2.06 2.06-.94-2.06-.94-.94-2.06-.94 2.06-2.06.94z\"/><path d=\"M17.41 7.96l-1.37-1.37c-.4-.4-.92-.59-1.43-.59-.52 0-1.04.2-1.43.59L10.3 9.45l-7.72 7.72c-.78.78-.78 2.05 0 2.83L4 21.41c.39.39.9.59 1.41.59.51 0 1.02-.2 1.41-.59l7.78-7.78 2.81-2.81c.8-.78.8-2.07 0-2.86zM5.41 20L4 18.59l7.72-7.72 1.47 1.35L5.41 20z\"/>\n",
              "  </svg>\n",
              "      </button>\n",
              "      \n",
              "  <style>\n",
              "    .colab-df-container {\n",
              "      display:flex;\n",
              "      flex-wrap:wrap;\n",
              "      gap: 12px;\n",
              "    }\n",
              "\n",
              "    .colab-df-convert {\n",
              "      background-color: #E8F0FE;\n",
              "      border: none;\n",
              "      border-radius: 50%;\n",
              "      cursor: pointer;\n",
              "      display: none;\n",
              "      fill: #1967D2;\n",
              "      height: 32px;\n",
              "      padding: 0 0 0 0;\n",
              "      width: 32px;\n",
              "    }\n",
              "\n",
              "    .colab-df-convert:hover {\n",
              "      background-color: #E2EBFA;\n",
              "      box-shadow: 0px 1px 2px rgba(60, 64, 67, 0.3), 0px 1px 3px 1px rgba(60, 64, 67, 0.15);\n",
              "      fill: #174EA6;\n",
              "    }\n",
              "\n",
              "    [theme=dark] .colab-df-convert {\n",
              "      background-color: #3B4455;\n",
              "      fill: #D2E3FC;\n",
              "    }\n",
              "\n",
              "    [theme=dark] .colab-df-convert:hover {\n",
              "      background-color: #434B5C;\n",
              "      box-shadow: 0px 1px 3px 1px rgba(0, 0, 0, 0.15);\n",
              "      filter: drop-shadow(0px 1px 2px rgba(0, 0, 0, 0.3));\n",
              "      fill: #FFFFFF;\n",
              "    }\n",
              "  </style>\n",
              "\n",
              "      <script>\n",
              "        const buttonEl =\n",
              "          document.querySelector('#df-94060acd-d55e-4668-a177-e5376b8e789c button.colab-df-convert');\n",
              "        buttonEl.style.display =\n",
              "          google.colab.kernel.accessAllowed ? 'block' : 'none';\n",
              "\n",
              "        async function convertToInteractive(key) {\n",
              "          const element = document.querySelector('#df-94060acd-d55e-4668-a177-e5376b8e789c');\n",
              "          const dataTable =\n",
              "            await google.colab.kernel.invokeFunction('convertToInteractive',\n",
              "                                                     [key], {});\n",
              "          if (!dataTable) return;\n",
              "\n",
              "          const docLinkHtml = 'Like what you see? Visit the ' +\n",
              "            '<a target=\"_blank\" href=https://colab.research.google.com/notebooks/data_table.ipynb>data table notebook</a>'\n",
              "            + ' to learn more about interactive tables.';\n",
              "          element.innerHTML = '';\n",
              "          dataTable['output_type'] = 'display_data';\n",
              "          await google.colab.output.renderOutput(dataTable, element);\n",
              "          const docLink = document.createElement('div');\n",
              "          docLink.innerHTML = docLinkHtml;\n",
              "          element.appendChild(docLink);\n",
              "        }\n",
              "      </script>\n",
              "    </div>\n",
              "  </div>\n",
              "  "
            ]
          },
          "metadata": {},
          "execution_count": 77
        }
      ]
    },
    {
      "cell_type": "code",
      "source": [
        "disease_1 = disease.query('name == \"multiple sclerosis\"')\n",
        "biological_process_1 = biological_process.query('name == \"retina layer formation\"')\n",
        "\n",
        "disease_gene1 = pd.merge(disease_1[['@id','name']], edges_disease_associates[['@id','@id_to']], on='@id')\n",
        "disease_gene1.columns = ['disease_id', 'disease_name', 'gene_1_id']\n",
        "\n",
        "disease_gene1_gene_2 = pd.merge(disease_gene1, edges_gene_interacts[['@id', '@id_to']], left_on = 'gene_1_id', right_on = '@id').drop(['@id'], axis=1)\n",
        "disease_gene1_gene_2.columns = ['disease_id', 'disease_name', 'gene_1_id', 'gene_2_id']\n",
        "\n",
        "disease_gene1_gene_2_process = pd.merge(disease_gene1_gene_2, edges_gene_participates[['@id', '@id_to']], left_on = 'gene_2_id', right_on = '@id').drop(['@id'], axis=1)\n",
        "disease_gene1_gene_2_process.columns = ['disease_id', 'disease_name', 'gene_1_id', 'gene_2_id', 'process_id']\n",
        "disease_gene1_gene_2_process = pd.merge(disease_gene1_gene_2_process, biological_process_1[['@id', 'name']], left_on = 'process_id', right_on = '@id').drop(['@id'], axis=1)\n",
        "\n",
        "disease_gene1_gene_2_process.columns = ['disease_id', 'disease_name', 'gene_1_id', 'gene_2_id', 'process_id', 'process_name']\n",
        "\n",
        "disease_gene1_gene_2_process"
      ],
      "metadata": {
        "id": "ybPpTBlbAbIN",
        "colab": {
          "base_uri": "https://localhost:8080/",
          "height": 143
        },
        "outputId": "737bc6e8-9756-4a20-9a83-27016e9ebff5"
      },
      "execution_count": 82,
      "outputs": [
        {
          "output_type": "execute_result",
          "data": {
            "text/plain": [
              "  disease_id        disease_name      gene_1_id      gene_2_id  process_id  \\\n",
              "0  DOID:2377  multiple sclerosis  ncbigene:5796  ncbigene:5797  GO:0010842   \n",
              "1  DOID:2377  multiple sclerosis  ncbigene:4609  ncbigene:7021  GO:0010842   \n",
              "2  DOID:2377  multiple sclerosis  ncbigene:4609  ncbigene:7020  GO:0010842   \n",
              "\n",
              "             process_name  \n",
              "0  retina layer formation  \n",
              "1  retina layer formation  \n",
              "2  retina layer formation  "
            ],
            "text/html": [
              "\n",
              "  <div id=\"df-ef39eecb-56ce-43f3-a2e5-443cfdc9a278\">\n",
              "    <div class=\"colab-df-container\">\n",
              "      <div>\n",
              "<style scoped>\n",
              "    .dataframe tbody tr th:only-of-type {\n",
              "        vertical-align: middle;\n",
              "    }\n",
              "\n",
              "    .dataframe tbody tr th {\n",
              "        vertical-align: top;\n",
              "    }\n",
              "\n",
              "    .dataframe thead th {\n",
              "        text-align: right;\n",
              "    }\n",
              "</style>\n",
              "<table border=\"1\" class=\"dataframe\">\n",
              "  <thead>\n",
              "    <tr style=\"text-align: right;\">\n",
              "      <th></th>\n",
              "      <th>disease_id</th>\n",
              "      <th>disease_name</th>\n",
              "      <th>gene_1_id</th>\n",
              "      <th>gene_2_id</th>\n",
              "      <th>process_id</th>\n",
              "      <th>process_name</th>\n",
              "    </tr>\n",
              "  </thead>\n",
              "  <tbody>\n",
              "    <tr>\n",
              "      <th>0</th>\n",
              "      <td>DOID:2377</td>\n",
              "      <td>multiple sclerosis</td>\n",
              "      <td>ncbigene:5796</td>\n",
              "      <td>ncbigene:5797</td>\n",
              "      <td>GO:0010842</td>\n",
              "      <td>retina layer formation</td>\n",
              "    </tr>\n",
              "    <tr>\n",
              "      <th>1</th>\n",
              "      <td>DOID:2377</td>\n",
              "      <td>multiple sclerosis</td>\n",
              "      <td>ncbigene:4609</td>\n",
              "      <td>ncbigene:7021</td>\n",
              "      <td>GO:0010842</td>\n",
              "      <td>retina layer formation</td>\n",
              "    </tr>\n",
              "    <tr>\n",
              "      <th>2</th>\n",
              "      <td>DOID:2377</td>\n",
              "      <td>multiple sclerosis</td>\n",
              "      <td>ncbigene:4609</td>\n",
              "      <td>ncbigene:7020</td>\n",
              "      <td>GO:0010842</td>\n",
              "      <td>retina layer formation</td>\n",
              "    </tr>\n",
              "  </tbody>\n",
              "</table>\n",
              "</div>\n",
              "      <button class=\"colab-df-convert\" onclick=\"convertToInteractive('df-ef39eecb-56ce-43f3-a2e5-443cfdc9a278')\"\n",
              "              title=\"Convert this dataframe to an interactive table.\"\n",
              "              style=\"display:none;\">\n",
              "        \n",
              "  <svg xmlns=\"http://www.w3.org/2000/svg\" height=\"24px\"viewBox=\"0 0 24 24\"\n",
              "       width=\"24px\">\n",
              "    <path d=\"M0 0h24v24H0V0z\" fill=\"none\"/>\n",
              "    <path d=\"M18.56 5.44l.94 2.06.94-2.06 2.06-.94-2.06-.94-.94-2.06-.94 2.06-2.06.94zm-11 1L8.5 8.5l.94-2.06 2.06-.94-2.06-.94L8.5 2.5l-.94 2.06-2.06.94zm10 10l.94 2.06.94-2.06 2.06-.94-2.06-.94-.94-2.06-.94 2.06-2.06.94z\"/><path d=\"M17.41 7.96l-1.37-1.37c-.4-.4-.92-.59-1.43-.59-.52 0-1.04.2-1.43.59L10.3 9.45l-7.72 7.72c-.78.78-.78 2.05 0 2.83L4 21.41c.39.39.9.59 1.41.59.51 0 1.02-.2 1.41-.59l7.78-7.78 2.81-2.81c.8-.78.8-2.07 0-2.86zM5.41 20L4 18.59l7.72-7.72 1.47 1.35L5.41 20z\"/>\n",
              "  </svg>\n",
              "      </button>\n",
              "      \n",
              "  <style>\n",
              "    .colab-df-container {\n",
              "      display:flex;\n",
              "      flex-wrap:wrap;\n",
              "      gap: 12px;\n",
              "    }\n",
              "\n",
              "    .colab-df-convert {\n",
              "      background-color: #E8F0FE;\n",
              "      border: none;\n",
              "      border-radius: 50%;\n",
              "      cursor: pointer;\n",
              "      display: none;\n",
              "      fill: #1967D2;\n",
              "      height: 32px;\n",
              "      padding: 0 0 0 0;\n",
              "      width: 32px;\n",
              "    }\n",
              "\n",
              "    .colab-df-convert:hover {\n",
              "      background-color: #E2EBFA;\n",
              "      box-shadow: 0px 1px 2px rgba(60, 64, 67, 0.3), 0px 1px 3px 1px rgba(60, 64, 67, 0.15);\n",
              "      fill: #174EA6;\n",
              "    }\n",
              "\n",
              "    [theme=dark] .colab-df-convert {\n",
              "      background-color: #3B4455;\n",
              "      fill: #D2E3FC;\n",
              "    }\n",
              "\n",
              "    [theme=dark] .colab-df-convert:hover {\n",
              "      background-color: #434B5C;\n",
              "      box-shadow: 0px 1px 3px 1px rgba(0, 0, 0, 0.15);\n",
              "      filter: drop-shadow(0px 1px 2px rgba(0, 0, 0, 0.3));\n",
              "      fill: #FFFFFF;\n",
              "    }\n",
              "  </style>\n",
              "\n",
              "      <script>\n",
              "        const buttonEl =\n",
              "          document.querySelector('#df-ef39eecb-56ce-43f3-a2e5-443cfdc9a278 button.colab-df-convert');\n",
              "        buttonEl.style.display =\n",
              "          google.colab.kernel.accessAllowed ? 'block' : 'none';\n",
              "\n",
              "        async function convertToInteractive(key) {\n",
              "          const element = document.querySelector('#df-ef39eecb-56ce-43f3-a2e5-443cfdc9a278');\n",
              "          const dataTable =\n",
              "            await google.colab.kernel.invokeFunction('convertToInteractive',\n",
              "                                                     [key], {});\n",
              "          if (!dataTable) return;\n",
              "\n",
              "          const docLinkHtml = 'Like what you see? Visit the ' +\n",
              "            '<a target=\"_blank\" href=https://colab.research.google.com/notebooks/data_table.ipynb>data table notebook</a>'\n",
              "            + ' to learn more about interactive tables.';\n",
              "          element.innerHTML = '';\n",
              "          dataTable['output_type'] = 'display_data';\n",
              "          await google.colab.output.renderOutput(dataTable, element);\n",
              "          const docLink = document.createElement('div');\n",
              "          docLink.innerHTML = docLinkHtml;\n",
              "          element.appendChild(docLink);\n",
              "        }\n",
              "      </script>\n",
              "    </div>\n",
              "  </div>\n",
              "  "
            ]
          },
          "metadata": {},
          "execution_count": 82
        }
      ]
    },
    {
      "cell_type": "code",
      "source": [
        "disease_1 = disease.query('name == \"multiple sclerosis\"')\n",
        "biological_process_1 = biological_process.query('name == \"retina layer formation\"')\n",
        "\n",
        "disease_gene1 = pd.merge(disease_1[['@id','name']], disease_association_edges[['@id','associates.@id']], on='@id')\n",
        "disease_gene1.columns = ['disease_id', 'disease_name', 'gene_1_id']\n",
        "disease_gene1.head\n",
        "\n",
        "disease_gene1\n",
        "\n",
        "disease_gene1_gene_2 = pd.merge(disease_gene1, gene_interacts_edges[['@id', '@id_to']], left_on = 'gene_1_id', right_on = '@id').drop(['@id'], axis=1)\n",
        "disease_gene1_gene_2.columns = ['disease_id', 'disease_name', 'gene_1_id', 'gene_2_id']\n"
      ],
      "metadata": {
        "id": "D7YCBDxKQ99R",
        "outputId": "ca67ae57-111c-4e97-904c-8e184df9090e",
        "colab": {
          "base_uri": "https://localhost:8080/"
        }
      },
      "execution_count": 90,
      "outputs": [
        {
          "output_type": "execute_result",
          "data": {
            "text/plain": [
              "<bound method NDFrame.head of     disease_id        disease_name      gene_1_id\n",
              "0    DOID:2377  multiple sclerosis   ncbigene:959\n",
              "1    DOID:2377  multiple sclerosis  ncbigene:7099\n",
              "2    DOID:2377  multiple sclerosis  ncbigene:6723\n",
              "3    DOID:2377  multiple sclerosis   ncbigene:958\n",
              "4    DOID:2377  multiple sclerosis  ncbigene:3627\n",
              "..         ...                 ...            ...\n",
              "145  DOID:2377  multiple sclerosis   ncbigene:627\n",
              "146  DOID:2377  multiple sclerosis  ncbigene:6774\n",
              "147  DOID:2377  multiple sclerosis  ncbigene:6404\n",
              "148  DOID:2377  multiple sclerosis  ncbigene:6352\n",
              "149  DOID:2377  multiple sclerosis  ncbigene:7412\n",
              "\n",
              "[150 rows x 3 columns]>"
            ]
          },
          "metadata": {},
          "execution_count": 90
        }
      ]
    },
    {
      "cell_type": "code",
      "source": [
        "disease_association_edges"
      ],
      "metadata": {
        "id": "t4KKuRuvRVXK",
        "outputId": "a4bc8f93-82f0-49be-94dc-15979b5e6cab",
        "colab": {
          "base_uri": "https://localhost:8080/",
          "height": 424
        }
      },
      "execution_count": 85,
      "outputs": [
        {
          "output_type": "execute_result",
          "data": {
            "text/plain": [
              "                   @id   associates.@id\n",
              "DOID:363      DOID:363    ncbigene:4436\n",
              "DOID:363      DOID:363    ncbigene:7869\n",
              "DOID:363      DOID:363    ncbigene:3480\n",
              "DOID:363      DOID:363     ncbigene:332\n",
              "DOID:363      DOID:363    ncbigene:3576\n",
              "...                ...              ...\n",
              "DOID:13189  DOID:13189    ncbigene:3557\n",
              "DOID:13189  DOID:13189    ncbigene:5634\n",
              "DOID:13189  DOID:13189   ncbigene:55867\n",
              "DOID:13189  DOID:13189    ncbigene:6568\n",
              "DOID:13189  DOID:13189  ncbigene:114548\n",
              "\n",
              "[12626 rows x 2 columns]"
            ],
            "text/html": [
              "\n",
              "  <div id=\"df-27f9c1c7-69f4-4c80-9ded-7858071dcb69\">\n",
              "    <div class=\"colab-df-container\">\n",
              "      <div>\n",
              "<style scoped>\n",
              "    .dataframe tbody tr th:only-of-type {\n",
              "        vertical-align: middle;\n",
              "    }\n",
              "\n",
              "    .dataframe tbody tr th {\n",
              "        vertical-align: top;\n",
              "    }\n",
              "\n",
              "    .dataframe thead th {\n",
              "        text-align: right;\n",
              "    }\n",
              "</style>\n",
              "<table border=\"1\" class=\"dataframe\">\n",
              "  <thead>\n",
              "    <tr style=\"text-align: right;\">\n",
              "      <th></th>\n",
              "      <th>@id</th>\n",
              "      <th>associates.@id</th>\n",
              "    </tr>\n",
              "  </thead>\n",
              "  <tbody>\n",
              "    <tr>\n",
              "      <th>DOID:363</th>\n",
              "      <td>DOID:363</td>\n",
              "      <td>ncbigene:4436</td>\n",
              "    </tr>\n",
              "    <tr>\n",
              "      <th>DOID:363</th>\n",
              "      <td>DOID:363</td>\n",
              "      <td>ncbigene:7869</td>\n",
              "    </tr>\n",
              "    <tr>\n",
              "      <th>DOID:363</th>\n",
              "      <td>DOID:363</td>\n",
              "      <td>ncbigene:3480</td>\n",
              "    </tr>\n",
              "    <tr>\n",
              "      <th>DOID:363</th>\n",
              "      <td>DOID:363</td>\n",
              "      <td>ncbigene:332</td>\n",
              "    </tr>\n",
              "    <tr>\n",
              "      <th>DOID:363</th>\n",
              "      <td>DOID:363</td>\n",
              "      <td>ncbigene:3576</td>\n",
              "    </tr>\n",
              "    <tr>\n",
              "      <th>...</th>\n",
              "      <td>...</td>\n",
              "      <td>...</td>\n",
              "    </tr>\n",
              "    <tr>\n",
              "      <th>DOID:13189</th>\n",
              "      <td>DOID:13189</td>\n",
              "      <td>ncbigene:3557</td>\n",
              "    </tr>\n",
              "    <tr>\n",
              "      <th>DOID:13189</th>\n",
              "      <td>DOID:13189</td>\n",
              "      <td>ncbigene:5634</td>\n",
              "    </tr>\n",
              "    <tr>\n",
              "      <th>DOID:13189</th>\n",
              "      <td>DOID:13189</td>\n",
              "      <td>ncbigene:55867</td>\n",
              "    </tr>\n",
              "    <tr>\n",
              "      <th>DOID:13189</th>\n",
              "      <td>DOID:13189</td>\n",
              "      <td>ncbigene:6568</td>\n",
              "    </tr>\n",
              "    <tr>\n",
              "      <th>DOID:13189</th>\n",
              "      <td>DOID:13189</td>\n",
              "      <td>ncbigene:114548</td>\n",
              "    </tr>\n",
              "  </tbody>\n",
              "</table>\n",
              "<p>12626 rows × 2 columns</p>\n",
              "</div>\n",
              "      <button class=\"colab-df-convert\" onclick=\"convertToInteractive('df-27f9c1c7-69f4-4c80-9ded-7858071dcb69')\"\n",
              "              title=\"Convert this dataframe to an interactive table.\"\n",
              "              style=\"display:none;\">\n",
              "        \n",
              "  <svg xmlns=\"http://www.w3.org/2000/svg\" height=\"24px\"viewBox=\"0 0 24 24\"\n",
              "       width=\"24px\">\n",
              "    <path d=\"M0 0h24v24H0V0z\" fill=\"none\"/>\n",
              "    <path d=\"M18.56 5.44l.94 2.06.94-2.06 2.06-.94-2.06-.94-.94-2.06-.94 2.06-2.06.94zm-11 1L8.5 8.5l.94-2.06 2.06-.94-2.06-.94L8.5 2.5l-.94 2.06-2.06.94zm10 10l.94 2.06.94-2.06 2.06-.94-2.06-.94-.94-2.06-.94 2.06-2.06.94z\"/><path d=\"M17.41 7.96l-1.37-1.37c-.4-.4-.92-.59-1.43-.59-.52 0-1.04.2-1.43.59L10.3 9.45l-7.72 7.72c-.78.78-.78 2.05 0 2.83L4 21.41c.39.39.9.59 1.41.59.51 0 1.02-.2 1.41-.59l7.78-7.78 2.81-2.81c.8-.78.8-2.07 0-2.86zM5.41 20L4 18.59l7.72-7.72 1.47 1.35L5.41 20z\"/>\n",
              "  </svg>\n",
              "      </button>\n",
              "      \n",
              "  <style>\n",
              "    .colab-df-container {\n",
              "      display:flex;\n",
              "      flex-wrap:wrap;\n",
              "      gap: 12px;\n",
              "    }\n",
              "\n",
              "    .colab-df-convert {\n",
              "      background-color: #E8F0FE;\n",
              "      border: none;\n",
              "      border-radius: 50%;\n",
              "      cursor: pointer;\n",
              "      display: none;\n",
              "      fill: #1967D2;\n",
              "      height: 32px;\n",
              "      padding: 0 0 0 0;\n",
              "      width: 32px;\n",
              "    }\n",
              "\n",
              "    .colab-df-convert:hover {\n",
              "      background-color: #E2EBFA;\n",
              "      box-shadow: 0px 1px 2px rgba(60, 64, 67, 0.3), 0px 1px 3px 1px rgba(60, 64, 67, 0.15);\n",
              "      fill: #174EA6;\n",
              "    }\n",
              "\n",
              "    [theme=dark] .colab-df-convert {\n",
              "      background-color: #3B4455;\n",
              "      fill: #D2E3FC;\n",
              "    }\n",
              "\n",
              "    [theme=dark] .colab-df-convert:hover {\n",
              "      background-color: #434B5C;\n",
              "      box-shadow: 0px 1px 3px 1px rgba(0, 0, 0, 0.15);\n",
              "      filter: drop-shadow(0px 1px 2px rgba(0, 0, 0, 0.3));\n",
              "      fill: #FFFFFF;\n",
              "    }\n",
              "  </style>\n",
              "\n",
              "      <script>\n",
              "        const buttonEl =\n",
              "          document.querySelector('#df-27f9c1c7-69f4-4c80-9ded-7858071dcb69 button.colab-df-convert');\n",
              "        buttonEl.style.display =\n",
              "          google.colab.kernel.accessAllowed ? 'block' : 'none';\n",
              "\n",
              "        async function convertToInteractive(key) {\n",
              "          const element = document.querySelector('#df-27f9c1c7-69f4-4c80-9ded-7858071dcb69');\n",
              "          const dataTable =\n",
              "            await google.colab.kernel.invokeFunction('convertToInteractive',\n",
              "                                                     [key], {});\n",
              "          if (!dataTable) return;\n",
              "\n",
              "          const docLinkHtml = 'Like what you see? Visit the ' +\n",
              "            '<a target=\"_blank\" href=https://colab.research.google.com/notebooks/data_table.ipynb>data table notebook</a>'\n",
              "            + ' to learn more about interactive tables.';\n",
              "          element.innerHTML = '';\n",
              "          dataTable['output_type'] = 'display_data';\n",
              "          await google.colab.output.renderOutput(dataTable, element);\n",
              "          const docLink = document.createElement('div');\n",
              "          docLink.innerHTML = docLinkHtml;\n",
              "          element.appendChild(docLink);\n",
              "        }\n",
              "      </script>\n",
              "    </div>\n",
              "  </div>\n",
              "  "
            ]
          },
          "metadata": {},
          "execution_count": 85
        }
      ]
    }
  ]
}